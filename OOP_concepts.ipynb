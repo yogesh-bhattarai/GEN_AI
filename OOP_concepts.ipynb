{
  "nbformat": 4,
  "nbformat_minor": 0,
  "metadata": {
    "colab": {
      "provenance": [],
      "authorship_tag": "ABX9TyNdeBTj54ldOlRcqub31cgv",
      "include_colab_link": true
    },
    "kernelspec": {
      "name": "python3",
      "display_name": "Python 3"
    },
    "language_info": {
      "name": "python"
    }
  },
  "cells": [
    {
      "cell_type": "markdown",
      "metadata": {
        "id": "view-in-github",
        "colab_type": "text"
      },
      "source": [
        "<a href=\"https://colab.research.google.com/github/yogesh-bhattarai/GEN_AI/blob/main/OOP_concepts.ipynb\" target=\"_parent\"><img src=\"https://colab.research.google.com/assets/colab-badge.svg\" alt=\"Open In Colab\"/></a>"
      ]
    },
    {
      "cell_type": "code",
      "execution_count": 1,
      "metadata": {
        "id": "cd7M8g9Mt_8W"
      },
      "outputs": [],
      "source": [
        "class car:\n",
        "  def __init__(self,brand,model):\n",
        "    self.brand= brand\n",
        "    self.model= model\n",
        "  def show_detail(self):\n",
        "    print(f\"car brand: {self.brand},model:{self.model}\")"
      ]
    },
    {
      "cell_type": "code",
      "source": [
        "car1= car(\"toyota\", \"hundai\")"
      ],
      "metadata": {
        "id": "4CRCX78BujCJ"
      },
      "execution_count": 3,
      "outputs": []
    },
    {
      "cell_type": "code",
      "source": [
        "car1.show_detail()"
      ],
      "metadata": {
        "colab": {
          "base_uri": "https://localhost:8080/"
        },
        "id": "Xcgi3s27ulKU",
        "outputId": "dbc71c05-fc0d-488b-db4a-6bd3f30d19ac"
      },
      "execution_count": 5,
      "outputs": [
        {
          "output_type": "stream",
          "name": "stdout",
          "text": [
            "car brand: toyota,model:hundai\n"
          ]
        }
      ]
    },
    {
      "cell_type": "code",
      "source": [
        "class BankAccount:\n",
        "  def __init__(self, account_holder,balance):\n",
        "    self.account_holder= account_holder\n",
        "    self.__balance= balance\n",
        "  def deposit(self, amount):\n",
        "    self.__balance= self.__balance+amount\n",
        "    return f\"Deposited {amount} and balance amount is{self.__balance}\""
      ],
      "metadata": {
        "id": "enWnZbMcutKu"
      },
      "execution_count": 22,
      "outputs": []
    },
    {
      "cell_type": "code",
      "source": [
        "b1= BankAccount(\"ram\", 2000)"
      ],
      "metadata": {
        "id": "ozTXyfNyvImF"
      },
      "execution_count": 23,
      "outputs": []
    },
    {
      "cell_type": "code",
      "source": [
        "b1.deposit(500)"
      ],
      "metadata": {
        "colab": {
          "base_uri": "https://localhost:8080/",
          "height": 36
        },
        "id": "Hv5KYR0tvsCJ",
        "outputId": "50c61676-ef4f-4946-f78d-93f31faf0e04"
      },
      "execution_count": 24,
      "outputs": [
        {
          "output_type": "execute_result",
          "data": {
            "text/plain": [
              "'Deposited 500 and balance amount is2500'"
            ],
            "application/vnd.google.colaboratory.intrinsic+json": {
              "type": "string"
            }
          },
          "metadata": {},
          "execution_count": 24
        }
      ]
    },
    {
      "cell_type": "code",
      "source": [],
      "metadata": {
        "id": "GDugUk65vvHv"
      },
      "execution_count": null,
      "outputs": []
    }
  ]
}