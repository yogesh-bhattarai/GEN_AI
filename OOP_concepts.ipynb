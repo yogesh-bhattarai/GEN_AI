{
  "nbformat": 4,
  "nbformat_minor": 0,
  "metadata": {
    "colab": {
      "provenance": [],
      "authorship_tag": "ABX9TyNP3kQDrl1OczWqQIycLMU6",
      "include_colab_link": true
    },
    "kernelspec": {
      "name": "python3",
      "display_name": "Python 3"
    },
    "language_info": {
      "name": "python"
    }
  },
  "cells": [
    {
      "cell_type": "markdown",
      "metadata": {
        "id": "view-in-github",
        "colab_type": "text"
      },
      "source": [
        "<a href=\"https://colab.research.google.com/github/yogesh-bhattarai/GEN_AI/blob/main/OOP_concepts.ipynb\" target=\"_parent\"><img src=\"https://colab.research.google.com/assets/colab-badge.svg\" alt=\"Open In Colab\"/></a>"
      ]
    },
    {
      "cell_type": "code",
      "execution_count": 1,
      "metadata": {
        "id": "cd7M8g9Mt_8W"
      },
      "outputs": [],
      "source": [
        "class car:\n",
        "  def __init__(self,brand,model):\n",
        "    self.brand= brand\n",
        "    self.model= model\n",
        "  def show_detail(self):\n",
        "    print(f\"car brand: {self.brand},model:{self.model}\")"
      ]
    },
    {
      "cell_type": "code",
      "source": [
        "car1= car(\"toyota\", \"hundai\")"
      ],
      "metadata": {
        "id": "4CRCX78BujCJ"
      },
      "execution_count": 3,
      "outputs": []
    },
    {
      "cell_type": "code",
      "source": [
        "car1.show_detail()"
      ],
      "metadata": {
        "colab": {
          "base_uri": "https://localhost:8080/"
        },
        "id": "Xcgi3s27ulKU",
        "outputId": "dbc71c05-fc0d-488b-db4a-6bd3f30d19ac"
      },
      "execution_count": 5,
      "outputs": [
        {
          "output_type": "stream",
          "name": "stdout",
          "text": [
            "car brand: toyota,model:hundai\n"
          ]
        }
      ]
    },
    {
      "cell_type": "code",
      "source": [],
      "metadata": {
        "id": "enWnZbMcutKu"
      },
      "execution_count": null,
      "outputs": []
    }
  ]
}