{
  "nbformat": 4,
  "nbformat_minor": 0,
  "metadata": {
    "colab": {
      "provenance": [],
      "gpuType": "T4",
      "include_colab_link": true
    },
    "kernelspec": {
      "name": "python3",
      "display_name": "Python 3"
    },
    "language_info": {
      "name": "python"
    },
    "widgets": {
      "application/vnd.jupyter.widget-state+json": {
        "f3063b3bfc7f4498a19e06d93adc7618": {
          "model_module": "@jupyter-widgets/controls",
          "model_name": "HBoxModel",
          "model_module_version": "1.5.0",
          "state": {
            "_dom_classes": [],
            "_model_module": "@jupyter-widgets/controls",
            "_model_module_version": "1.5.0",
            "_model_name": "HBoxModel",
            "_view_count": null,
            "_view_module": "@jupyter-widgets/controls",
            "_view_module_version": "1.5.0",
            "_view_name": "HBoxView",
            "box_style": "",
            "children": [
              "IPY_MODEL_732dc4b21a8e4002b1951ba47beb60aa",
              "IPY_MODEL_7b0f8c13ae4246b7990690540a94311a",
              "IPY_MODEL_095e8720fc124ddf972305a3410a4e1a"
            ],
            "layout": "IPY_MODEL_1e18e6bdf4554c03a10e461a41f7b529"
          }
        },
        "732dc4b21a8e4002b1951ba47beb60aa": {
          "model_module": "@jupyter-widgets/controls",
          "model_name": "HTMLModel",
          "model_module_version": "1.5.0",
          "state": {
            "_dom_classes": [],
            "_model_module": "@jupyter-widgets/controls",
            "_model_module_version": "1.5.0",
            "_model_name": "HTMLModel",
            "_view_count": null,
            "_view_module": "@jupyter-widgets/controls",
            "_view_module_version": "1.5.0",
            "_view_name": "HTMLView",
            "description": "",
            "description_tooltip": null,
            "layout": "IPY_MODEL_24f45f7670694297b3b9d72ed398ee1a",
            "placeholder": "​",
            "style": "IPY_MODEL_93e85fec634c48bbb7ea527b4964f69e",
            "value": "Fetching 5 files: 100%"
          }
        },
        "7b0f8c13ae4246b7990690540a94311a": {
          "model_module": "@jupyter-widgets/controls",
          "model_name": "FloatProgressModel",
          "model_module_version": "1.5.0",
          "state": {
            "_dom_classes": [],
            "_model_module": "@jupyter-widgets/controls",
            "_model_module_version": "1.5.0",
            "_model_name": "FloatProgressModel",
            "_view_count": null,
            "_view_module": "@jupyter-widgets/controls",
            "_view_module_version": "1.5.0",
            "_view_name": "ProgressView",
            "bar_style": "success",
            "description": "",
            "description_tooltip": null,
            "layout": "IPY_MODEL_9d7dc9afe03e426e9cc35093dec01523",
            "max": 5,
            "min": 0,
            "orientation": "horizontal",
            "style": "IPY_MODEL_e80c0655a5c549b28c3fa50eff1e240f",
            "value": 5
          }
        },
        "095e8720fc124ddf972305a3410a4e1a": {
          "model_module": "@jupyter-widgets/controls",
          "model_name": "HTMLModel",
          "model_module_version": "1.5.0",
          "state": {
            "_dom_classes": [],
            "_model_module": "@jupyter-widgets/controls",
            "_model_module_version": "1.5.0",
            "_model_name": "HTMLModel",
            "_view_count": null,
            "_view_module": "@jupyter-widgets/controls",
            "_view_module_version": "1.5.0",
            "_view_name": "HTMLView",
            "description": "",
            "description_tooltip": null,
            "layout": "IPY_MODEL_48e933a1ff904ba1b19bdfe218a5d0f5",
            "placeholder": "​",
            "style": "IPY_MODEL_35242b0a0f32463e810abec29231d1cc",
            "value": " 5/5 [00:06&lt;00:00,  3.64s/it]"
          }
        },
        "1e18e6bdf4554c03a10e461a41f7b529": {
          "model_module": "@jupyter-widgets/base",
          "model_name": "LayoutModel",
          "model_module_version": "1.2.0",
          "state": {
            "_model_module": "@jupyter-widgets/base",
            "_model_module_version": "1.2.0",
            "_model_name": "LayoutModel",
            "_view_count": null,
            "_view_module": "@jupyter-widgets/base",
            "_view_module_version": "1.2.0",
            "_view_name": "LayoutView",
            "align_content": null,
            "align_items": null,
            "align_self": null,
            "border": null,
            "bottom": null,
            "display": null,
            "flex": null,
            "flex_flow": null,
            "grid_area": null,
            "grid_auto_columns": null,
            "grid_auto_flow": null,
            "grid_auto_rows": null,
            "grid_column": null,
            "grid_gap": null,
            "grid_row": null,
            "grid_template_areas": null,
            "grid_template_columns": null,
            "grid_template_rows": null,
            "height": null,
            "justify_content": null,
            "justify_items": null,
            "left": null,
            "margin": null,
            "max_height": null,
            "max_width": null,
            "min_height": null,
            "min_width": null,
            "object_fit": null,
            "object_position": null,
            "order": null,
            "overflow": null,
            "overflow_x": null,
            "overflow_y": null,
            "padding": null,
            "right": null,
            "top": null,
            "visibility": null,
            "width": null
          }
        },
        "24f45f7670694297b3b9d72ed398ee1a": {
          "model_module": "@jupyter-widgets/base",
          "model_name": "LayoutModel",
          "model_module_version": "1.2.0",
          "state": {
            "_model_module": "@jupyter-widgets/base",
            "_model_module_version": "1.2.0",
            "_model_name": "LayoutModel",
            "_view_count": null,
            "_view_module": "@jupyter-widgets/base",
            "_view_module_version": "1.2.0",
            "_view_name": "LayoutView",
            "align_content": null,
            "align_items": null,
            "align_self": null,
            "border": null,
            "bottom": null,
            "display": null,
            "flex": null,
            "flex_flow": null,
            "grid_area": null,
            "grid_auto_columns": null,
            "grid_auto_flow": null,
            "grid_auto_rows": null,
            "grid_column": null,
            "grid_gap": null,
            "grid_row": null,
            "grid_template_areas": null,
            "grid_template_columns": null,
            "grid_template_rows": null,
            "height": null,
            "justify_content": null,
            "justify_items": null,
            "left": null,
            "margin": null,
            "max_height": null,
            "max_width": null,
            "min_height": null,
            "min_width": null,
            "object_fit": null,
            "object_position": null,
            "order": null,
            "overflow": null,
            "overflow_x": null,
            "overflow_y": null,
            "padding": null,
            "right": null,
            "top": null,
            "visibility": null,
            "width": null
          }
        },
        "93e85fec634c48bbb7ea527b4964f69e": {
          "model_module": "@jupyter-widgets/controls",
          "model_name": "DescriptionStyleModel",
          "model_module_version": "1.5.0",
          "state": {
            "_model_module": "@jupyter-widgets/controls",
            "_model_module_version": "1.5.0",
            "_model_name": "DescriptionStyleModel",
            "_view_count": null,
            "_view_module": "@jupyter-widgets/base",
            "_view_module_version": "1.2.0",
            "_view_name": "StyleView",
            "description_width": ""
          }
        },
        "9d7dc9afe03e426e9cc35093dec01523": {
          "model_module": "@jupyter-widgets/base",
          "model_name": "LayoutModel",
          "model_module_version": "1.2.0",
          "state": {
            "_model_module": "@jupyter-widgets/base",
            "_model_module_version": "1.2.0",
            "_model_name": "LayoutModel",
            "_view_count": null,
            "_view_module": "@jupyter-widgets/base",
            "_view_module_version": "1.2.0",
            "_view_name": "LayoutView",
            "align_content": null,
            "align_items": null,
            "align_self": null,
            "border": null,
            "bottom": null,
            "display": null,
            "flex": null,
            "flex_flow": null,
            "grid_area": null,
            "grid_auto_columns": null,
            "grid_auto_flow": null,
            "grid_auto_rows": null,
            "grid_column": null,
            "grid_gap": null,
            "grid_row": null,
            "grid_template_areas": null,
            "grid_template_columns": null,
            "grid_template_rows": null,
            "height": null,
            "justify_content": null,
            "justify_items": null,
            "left": null,
            "margin": null,
            "max_height": null,
            "max_width": null,
            "min_height": null,
            "min_width": null,
            "object_fit": null,
            "object_position": null,
            "order": null,
            "overflow": null,
            "overflow_x": null,
            "overflow_y": null,
            "padding": null,
            "right": null,
            "top": null,
            "visibility": null,
            "width": null
          }
        },
        "e80c0655a5c549b28c3fa50eff1e240f": {
          "model_module": "@jupyter-widgets/controls",
          "model_name": "ProgressStyleModel",
          "model_module_version": "1.5.0",
          "state": {
            "_model_module": "@jupyter-widgets/controls",
            "_model_module_version": "1.5.0",
            "_model_name": "ProgressStyleModel",
            "_view_count": null,
            "_view_module": "@jupyter-widgets/base",
            "_view_module_version": "1.2.0",
            "_view_name": "StyleView",
            "bar_color": null,
            "description_width": ""
          }
        },
        "48e933a1ff904ba1b19bdfe218a5d0f5": {
          "model_module": "@jupyter-widgets/base",
          "model_name": "LayoutModel",
          "model_module_version": "1.2.0",
          "state": {
            "_model_module": "@jupyter-widgets/base",
            "_model_module_version": "1.2.0",
            "_model_name": "LayoutModel",
            "_view_count": null,
            "_view_module": "@jupyter-widgets/base",
            "_view_module_version": "1.2.0",
            "_view_name": "LayoutView",
            "align_content": null,
            "align_items": null,
            "align_self": null,
            "border": null,
            "bottom": null,
            "display": null,
            "flex": null,
            "flex_flow": null,
            "grid_area": null,
            "grid_auto_columns": null,
            "grid_auto_flow": null,
            "grid_auto_rows": null,
            "grid_column": null,
            "grid_gap": null,
            "grid_row": null,
            "grid_template_areas": null,
            "grid_template_columns": null,
            "grid_template_rows": null,
            "height": null,
            "justify_content": null,
            "justify_items": null,
            "left": null,
            "margin": null,
            "max_height": null,
            "max_width": null,
            "min_height": null,
            "min_width": null,
            "object_fit": null,
            "object_position": null,
            "order": null,
            "overflow": null,
            "overflow_x": null,
            "overflow_y": null,
            "padding": null,
            "right": null,
            "top": null,
            "visibility": null,
            "width": null
          }
        },
        "35242b0a0f32463e810abec29231d1cc": {
          "model_module": "@jupyter-widgets/controls",
          "model_name": "DescriptionStyleModel",
          "model_module_version": "1.5.0",
          "state": {
            "_model_module": "@jupyter-widgets/controls",
            "_model_module_version": "1.5.0",
            "_model_name": "DescriptionStyleModel",
            "_view_count": null,
            "_view_module": "@jupyter-widgets/base",
            "_view_module_version": "1.2.0",
            "_view_name": "StyleView",
            "description_width": ""
          }
        },
        "74734975e103481fa0032e2663bd419a": {
          "model_module": "@jupyter-widgets/controls",
          "model_name": "HBoxModel",
          "model_module_version": "1.5.0",
          "state": {
            "_dom_classes": [],
            "_model_module": "@jupyter-widgets/controls",
            "_model_module_version": "1.5.0",
            "_model_name": "HBoxModel",
            "_view_count": null,
            "_view_module": "@jupyter-widgets/controls",
            "_view_module_version": "1.5.0",
            "_view_name": "HBoxView",
            "box_style": "",
            "children": [
              "IPY_MODEL_f8996b0d2bbe4c559c39e30ae3ac2bf0",
              "IPY_MODEL_21cc7c37a4184cd096211d310491a84a",
              "IPY_MODEL_4952ad557e1544f2984527548be2e4d2"
            ],
            "layout": "IPY_MODEL_3f3d2bdc1f7243da8deaff86dddb4c68"
          }
        },
        "f8996b0d2bbe4c559c39e30ae3ac2bf0": {
          "model_module": "@jupyter-widgets/controls",
          "model_name": "HTMLModel",
          "model_module_version": "1.5.0",
          "state": {
            "_dom_classes": [],
            "_model_module": "@jupyter-widgets/controls",
            "_model_module_version": "1.5.0",
            "_model_name": "HTMLModel",
            "_view_count": null,
            "_view_module": "@jupyter-widgets/controls",
            "_view_module_version": "1.5.0",
            "_view_name": "HTMLView",
            "description": "",
            "description_tooltip": null,
            "layout": "IPY_MODEL_853ce32a8e6745299a49d47b7020d0e5",
            "placeholder": "​",
            "style": "IPY_MODEL_ed260797bf364d2da1e309657387fc03",
            "value": "tokenizer_config.json: 100%"
          }
        },
        "21cc7c37a4184cd096211d310491a84a": {
          "model_module": "@jupyter-widgets/controls",
          "model_name": "FloatProgressModel",
          "model_module_version": "1.5.0",
          "state": {
            "_dom_classes": [],
            "_model_module": "@jupyter-widgets/controls",
            "_model_module_version": "1.5.0",
            "_model_name": "FloatProgressModel",
            "_view_count": null,
            "_view_module": "@jupyter-widgets/controls",
            "_view_module_version": "1.5.0",
            "_view_name": "ProgressView",
            "bar_style": "success",
            "description": "",
            "description_tooltip": null,
            "layout": "IPY_MODEL_811cbba2872b46889148b7b433ceb79b",
            "max": 1242,
            "min": 0,
            "orientation": "horizontal",
            "style": "IPY_MODEL_59c31813ad6b46b29fa64044049cb908",
            "value": 1242
          }
        },
        "4952ad557e1544f2984527548be2e4d2": {
          "model_module": "@jupyter-widgets/controls",
          "model_name": "HTMLModel",
          "model_module_version": "1.5.0",
          "state": {
            "_dom_classes": [],
            "_model_module": "@jupyter-widgets/controls",
            "_model_module_version": "1.5.0",
            "_model_name": "HTMLModel",
            "_view_count": null,
            "_view_module": "@jupyter-widgets/controls",
            "_view_module_version": "1.5.0",
            "_view_name": "HTMLView",
            "description": "",
            "description_tooltip": null,
            "layout": "IPY_MODEL_d4d6b5f824ce4047a195aef2b88b3cb9",
            "placeholder": "​",
            "style": "IPY_MODEL_77c779dee36e4641956954baecf17610",
            "value": " 1.24k/1.24k [00:00&lt;00:00, 9.68kB/s]"
          }
        },
        "3f3d2bdc1f7243da8deaff86dddb4c68": {
          "model_module": "@jupyter-widgets/base",
          "model_name": "LayoutModel",
          "model_module_version": "1.2.0",
          "state": {
            "_model_module": "@jupyter-widgets/base",
            "_model_module_version": "1.2.0",
            "_model_name": "LayoutModel",
            "_view_count": null,
            "_view_module": "@jupyter-widgets/base",
            "_view_module_version": "1.2.0",
            "_view_name": "LayoutView",
            "align_content": null,
            "align_items": null,
            "align_self": null,
            "border": null,
            "bottom": null,
            "display": null,
            "flex": null,
            "flex_flow": null,
            "grid_area": null,
            "grid_auto_columns": null,
            "grid_auto_flow": null,
            "grid_auto_rows": null,
            "grid_column": null,
            "grid_gap": null,
            "grid_row": null,
            "grid_template_areas": null,
            "grid_template_columns": null,
            "grid_template_rows": null,
            "height": null,
            "justify_content": null,
            "justify_items": null,
            "left": null,
            "margin": null,
            "max_height": null,
            "max_width": null,
            "min_height": null,
            "min_width": null,
            "object_fit": null,
            "object_position": null,
            "order": null,
            "overflow": null,
            "overflow_x": null,
            "overflow_y": null,
            "padding": null,
            "right": null,
            "top": null,
            "visibility": null,
            "width": null
          }
        },
        "853ce32a8e6745299a49d47b7020d0e5": {
          "model_module": "@jupyter-widgets/base",
          "model_name": "LayoutModel",
          "model_module_version": "1.2.0",
          "state": {
            "_model_module": "@jupyter-widgets/base",
            "_model_module_version": "1.2.0",
            "_model_name": "LayoutModel",
            "_view_count": null,
            "_view_module": "@jupyter-widgets/base",
            "_view_module_version": "1.2.0",
            "_view_name": "LayoutView",
            "align_content": null,
            "align_items": null,
            "align_self": null,
            "border": null,
            "bottom": null,
            "display": null,
            "flex": null,
            "flex_flow": null,
            "grid_area": null,
            "grid_auto_columns": null,
            "grid_auto_flow": null,
            "grid_auto_rows": null,
            "grid_column": null,
            "grid_gap": null,
            "grid_row": null,
            "grid_template_areas": null,
            "grid_template_columns": null,
            "grid_template_rows": null,
            "height": null,
            "justify_content": null,
            "justify_items": null,
            "left": null,
            "margin": null,
            "max_height": null,
            "max_width": null,
            "min_height": null,
            "min_width": null,
            "object_fit": null,
            "object_position": null,
            "order": null,
            "overflow": null,
            "overflow_x": null,
            "overflow_y": null,
            "padding": null,
            "right": null,
            "top": null,
            "visibility": null,
            "width": null
          }
        },
        "ed260797bf364d2da1e309657387fc03": {
          "model_module": "@jupyter-widgets/controls",
          "model_name": "DescriptionStyleModel",
          "model_module_version": "1.5.0",
          "state": {
            "_model_module": "@jupyter-widgets/controls",
            "_model_module_version": "1.5.0",
            "_model_name": "DescriptionStyleModel",
            "_view_count": null,
            "_view_module": "@jupyter-widgets/base",
            "_view_module_version": "1.2.0",
            "_view_name": "StyleView",
            "description_width": ""
          }
        },
        "811cbba2872b46889148b7b433ceb79b": {
          "model_module": "@jupyter-widgets/base",
          "model_name": "LayoutModel",
          "model_module_version": "1.2.0",
          "state": {
            "_model_module": "@jupyter-widgets/base",
            "_model_module_version": "1.2.0",
            "_model_name": "LayoutModel",
            "_view_count": null,
            "_view_module": "@jupyter-widgets/base",
            "_view_module_version": "1.2.0",
            "_view_name": "LayoutView",
            "align_content": null,
            "align_items": null,
            "align_self": null,
            "border": null,
            "bottom": null,
            "display": null,
            "flex": null,
            "flex_flow": null,
            "grid_area": null,
            "grid_auto_columns": null,
            "grid_auto_flow": null,
            "grid_auto_rows": null,
            "grid_column": null,
            "grid_gap": null,
            "grid_row": null,
            "grid_template_areas": null,
            "grid_template_columns": null,
            "grid_template_rows": null,
            "height": null,
            "justify_content": null,
            "justify_items": null,
            "left": null,
            "margin": null,
            "max_height": null,
            "max_width": null,
            "min_height": null,
            "min_width": null,
            "object_fit": null,
            "object_position": null,
            "order": null,
            "overflow": null,
            "overflow_x": null,
            "overflow_y": null,
            "padding": null,
            "right": null,
            "top": null,
            "visibility": null,
            "width": null
          }
        },
        "59c31813ad6b46b29fa64044049cb908": {
          "model_module": "@jupyter-widgets/controls",
          "model_name": "ProgressStyleModel",
          "model_module_version": "1.5.0",
          "state": {
            "_model_module": "@jupyter-widgets/controls",
            "_model_module_version": "1.5.0",
            "_model_name": "ProgressStyleModel",
            "_view_count": null,
            "_view_module": "@jupyter-widgets/base",
            "_view_module_version": "1.2.0",
            "_view_name": "StyleView",
            "bar_color": null,
            "description_width": ""
          }
        },
        "d4d6b5f824ce4047a195aef2b88b3cb9": {
          "model_module": "@jupyter-widgets/base",
          "model_name": "LayoutModel",
          "model_module_version": "1.2.0",
          "state": {
            "_model_module": "@jupyter-widgets/base",
            "_model_module_version": "1.2.0",
            "_model_name": "LayoutModel",
            "_view_count": null,
            "_view_module": "@jupyter-widgets/base",
            "_view_module_version": "1.2.0",
            "_view_name": "LayoutView",
            "align_content": null,
            "align_items": null,
            "align_self": null,
            "border": null,
            "bottom": null,
            "display": null,
            "flex": null,
            "flex_flow": null,
            "grid_area": null,
            "grid_auto_columns": null,
            "grid_auto_flow": null,
            "grid_auto_rows": null,
            "grid_column": null,
            "grid_gap": null,
            "grid_row": null,
            "grid_template_areas": null,
            "grid_template_columns": null,
            "grid_template_rows": null,
            "height": null,
            "justify_content": null,
            "justify_items": null,
            "left": null,
            "margin": null,
            "max_height": null,
            "max_width": null,
            "min_height": null,
            "min_width": null,
            "object_fit": null,
            "object_position": null,
            "order": null,
            "overflow": null,
            "overflow_x": null,
            "overflow_y": null,
            "padding": null,
            "right": null,
            "top": null,
            "visibility": null,
            "width": null
          }
        },
        "77c779dee36e4641956954baecf17610": {
          "model_module": "@jupyter-widgets/controls",
          "model_name": "DescriptionStyleModel",
          "model_module_version": "1.5.0",
          "state": {
            "_model_module": "@jupyter-widgets/controls",
            "_model_module_version": "1.5.0",
            "_model_name": "DescriptionStyleModel",
            "_view_count": null,
            "_view_module": "@jupyter-widgets/base",
            "_view_module_version": "1.2.0",
            "_view_name": "StyleView",
            "description_width": ""
          }
        },
        "7b82a8144cae462ea2f7f43dba9b0708": {
          "model_module": "@jupyter-widgets/controls",
          "model_name": "HBoxModel",
          "model_module_version": "1.5.0",
          "state": {
            "_dom_classes": [],
            "_model_module": "@jupyter-widgets/controls",
            "_model_module_version": "1.5.0",
            "_model_name": "HBoxModel",
            "_view_count": null,
            "_view_module": "@jupyter-widgets/controls",
            "_view_module_version": "1.5.0",
            "_view_name": "HBoxView",
            "box_style": "",
            "children": [
              "IPY_MODEL_d92071debeb349ffbab5c64dcf344d69",
              "IPY_MODEL_77e84ac71df1427e9eb14891f0aa51d4",
              "IPY_MODEL_852cc73746d947bfa8f0fe0580040122"
            ],
            "layout": "IPY_MODEL_d777bf95d3014372bbee9a4059ad213e"
          }
        },
        "d92071debeb349ffbab5c64dcf344d69": {
          "model_module": "@jupyter-widgets/controls",
          "model_name": "HTMLModel",
          "model_module_version": "1.5.0",
          "state": {
            "_dom_classes": [],
            "_model_module": "@jupyter-widgets/controls",
            "_model_module_version": "1.5.0",
            "_model_name": "HTMLModel",
            "_view_count": null,
            "_view_module": "@jupyter-widgets/controls",
            "_view_module_version": "1.5.0",
            "_view_name": "HTMLView",
            "description": "",
            "description_tooltip": null,
            "layout": "IPY_MODEL_379a3fee168b4fd4b82c3169a48533c4",
            "placeholder": "​",
            "style": "IPY_MODEL_4303f0e715cd4f359e62310f38003599",
            "value": "tokenizer.json: 100%"
          }
        },
        "77e84ac71df1427e9eb14891f0aa51d4": {
          "model_module": "@jupyter-widgets/controls",
          "model_name": "FloatProgressModel",
          "model_module_version": "1.5.0",
          "state": {
            "_dom_classes": [],
            "_model_module": "@jupyter-widgets/controls",
            "_model_module_version": "1.5.0",
            "_model_name": "FloatProgressModel",
            "_view_count": null,
            "_view_module": "@jupyter-widgets/controls",
            "_view_module_version": "1.5.0",
            "_view_name": "ProgressView",
            "bar_style": "success",
            "description": "",
            "description_tooltip": null,
            "layout": "IPY_MODEL_d0ace2f93b3c4e48a104167343441180",
            "max": 711396,
            "min": 0,
            "orientation": "horizontal",
            "style": "IPY_MODEL_b56bc227b62240eebbc1fd5feebdcd9a",
            "value": 711396
          }
        },
        "852cc73746d947bfa8f0fe0580040122": {
          "model_module": "@jupyter-widgets/controls",
          "model_name": "HTMLModel",
          "model_module_version": "1.5.0",
          "state": {
            "_dom_classes": [],
            "_model_module": "@jupyter-widgets/controls",
            "_model_module_version": "1.5.0",
            "_model_name": "HTMLModel",
            "_view_count": null,
            "_view_module": "@jupyter-widgets/controls",
            "_view_module_version": "1.5.0",
            "_view_name": "HTMLView",
            "description": "",
            "description_tooltip": null,
            "layout": "IPY_MODEL_1373d297e6d248bd995e0f84f2cf49bc",
            "placeholder": "​",
            "style": "IPY_MODEL_0ed00727060b4ae4ac37baede59dc6ad",
            "value": " 711k/711k [00:00&lt;00:00, 1.72MB/s]"
          }
        },
        "d777bf95d3014372bbee9a4059ad213e": {
          "model_module": "@jupyter-widgets/base",
          "model_name": "LayoutModel",
          "model_module_version": "1.2.0",
          "state": {
            "_model_module": "@jupyter-widgets/base",
            "_model_module_version": "1.2.0",
            "_model_name": "LayoutModel",
            "_view_count": null,
            "_view_module": "@jupyter-widgets/base",
            "_view_module_version": "1.2.0",
            "_view_name": "LayoutView",
            "align_content": null,
            "align_items": null,
            "align_self": null,
            "border": null,
            "bottom": null,
            "display": null,
            "flex": null,
            "flex_flow": null,
            "grid_area": null,
            "grid_auto_columns": null,
            "grid_auto_flow": null,
            "grid_auto_rows": null,
            "grid_column": null,
            "grid_gap": null,
            "grid_row": null,
            "grid_template_areas": null,
            "grid_template_columns": null,
            "grid_template_rows": null,
            "height": null,
            "justify_content": null,
            "justify_items": null,
            "left": null,
            "margin": null,
            "max_height": null,
            "max_width": null,
            "min_height": null,
            "min_width": null,
            "object_fit": null,
            "object_position": null,
            "order": null,
            "overflow": null,
            "overflow_x": null,
            "overflow_y": null,
            "padding": null,
            "right": null,
            "top": null,
            "visibility": null,
            "width": null
          }
        },
        "379a3fee168b4fd4b82c3169a48533c4": {
          "model_module": "@jupyter-widgets/base",
          "model_name": "LayoutModel",
          "model_module_version": "1.2.0",
          "state": {
            "_model_module": "@jupyter-widgets/base",
            "_model_module_version": "1.2.0",
            "_model_name": "LayoutModel",
            "_view_count": null,
            "_view_module": "@jupyter-widgets/base",
            "_view_module_version": "1.2.0",
            "_view_name": "LayoutView",
            "align_content": null,
            "align_items": null,
            "align_self": null,
            "border": null,
            "bottom": null,
            "display": null,
            "flex": null,
            "flex_flow": null,
            "grid_area": null,
            "grid_auto_columns": null,
            "grid_auto_flow": null,
            "grid_auto_rows": null,
            "grid_column": null,
            "grid_gap": null,
            "grid_row": null,
            "grid_template_areas": null,
            "grid_template_columns": null,
            "grid_template_rows": null,
            "height": null,
            "justify_content": null,
            "justify_items": null,
            "left": null,
            "margin": null,
            "max_height": null,
            "max_width": null,
            "min_height": null,
            "min_width": null,
            "object_fit": null,
            "object_position": null,
            "order": null,
            "overflow": null,
            "overflow_x": null,
            "overflow_y": null,
            "padding": null,
            "right": null,
            "top": null,
            "visibility": null,
            "width": null
          }
        },
        "4303f0e715cd4f359e62310f38003599": {
          "model_module": "@jupyter-widgets/controls",
          "model_name": "DescriptionStyleModel",
          "model_module_version": "1.5.0",
          "state": {
            "_model_module": "@jupyter-widgets/controls",
            "_model_module_version": "1.5.0",
            "_model_name": "DescriptionStyleModel",
            "_view_count": null,
            "_view_module": "@jupyter-widgets/base",
            "_view_module_version": "1.2.0",
            "_view_name": "StyleView",
            "description_width": ""
          }
        },
        "d0ace2f93b3c4e48a104167343441180": {
          "model_module": "@jupyter-widgets/base",
          "model_name": "LayoutModel",
          "model_module_version": "1.2.0",
          "state": {
            "_model_module": "@jupyter-widgets/base",
            "_model_module_version": "1.2.0",
            "_model_name": "LayoutModel",
            "_view_count": null,
            "_view_module": "@jupyter-widgets/base",
            "_view_module_version": "1.2.0",
            "_view_name": "LayoutView",
            "align_content": null,
            "align_items": null,
            "align_self": null,
            "border": null,
            "bottom": null,
            "display": null,
            "flex": null,
            "flex_flow": null,
            "grid_area": null,
            "grid_auto_columns": null,
            "grid_auto_flow": null,
            "grid_auto_rows": null,
            "grid_column": null,
            "grid_gap": null,
            "grid_row": null,
            "grid_template_areas": null,
            "grid_template_columns": null,
            "grid_template_rows": null,
            "height": null,
            "justify_content": null,
            "justify_items": null,
            "left": null,
            "margin": null,
            "max_height": null,
            "max_width": null,
            "min_height": null,
            "min_width": null,
            "object_fit": null,
            "object_position": null,
            "order": null,
            "overflow": null,
            "overflow_x": null,
            "overflow_y": null,
            "padding": null,
            "right": null,
            "top": null,
            "visibility": null,
            "width": null
          }
        },
        "b56bc227b62240eebbc1fd5feebdcd9a": {
          "model_module": "@jupyter-widgets/controls",
          "model_name": "ProgressStyleModel",
          "model_module_version": "1.5.0",
          "state": {
            "_model_module": "@jupyter-widgets/controls",
            "_model_module_version": "1.5.0",
            "_model_name": "ProgressStyleModel",
            "_view_count": null,
            "_view_module": "@jupyter-widgets/base",
            "_view_module_version": "1.2.0",
            "_view_name": "StyleView",
            "bar_color": null,
            "description_width": ""
          }
        },
        "1373d297e6d248bd995e0f84f2cf49bc": {
          "model_module": "@jupyter-widgets/base",
          "model_name": "LayoutModel",
          "model_module_version": "1.2.0",
          "state": {
            "_model_module": "@jupyter-widgets/base",
            "_model_module_version": "1.2.0",
            "_model_name": "LayoutModel",
            "_view_count": null,
            "_view_module": "@jupyter-widgets/base",
            "_view_module_version": "1.2.0",
            "_view_name": "LayoutView",
            "align_content": null,
            "align_items": null,
            "align_self": null,
            "border": null,
            "bottom": null,
            "display": null,
            "flex": null,
            "flex_flow": null,
            "grid_area": null,
            "grid_auto_columns": null,
            "grid_auto_flow": null,
            "grid_auto_rows": null,
            "grid_column": null,
            "grid_gap": null,
            "grid_row": null,
            "grid_template_areas": null,
            "grid_template_columns": null,
            "grid_template_rows": null,
            "height": null,
            "justify_content": null,
            "justify_items": null,
            "left": null,
            "margin": null,
            "max_height": null,
            "max_width": null,
            "min_height": null,
            "min_width": null,
            "object_fit": null,
            "object_position": null,
            "order": null,
            "overflow": null,
            "overflow_x": null,
            "overflow_y": null,
            "padding": null,
            "right": null,
            "top": null,
            "visibility": null,
            "width": null
          }
        },
        "0ed00727060b4ae4ac37baede59dc6ad": {
          "model_module": "@jupyter-widgets/controls",
          "model_name": "DescriptionStyleModel",
          "model_module_version": "1.5.0",
          "state": {
            "_model_module": "@jupyter-widgets/controls",
            "_model_module_version": "1.5.0",
            "_model_name": "DescriptionStyleModel",
            "_view_count": null,
            "_view_module": "@jupyter-widgets/base",
            "_view_module_version": "1.2.0",
            "_view_name": "StyleView",
            "description_width": ""
          }
        },
        "e356d430628f46b98072fd71df518154": {
          "model_module": "@jupyter-widgets/controls",
          "model_name": "HBoxModel",
          "model_module_version": "1.5.0",
          "state": {
            "_dom_classes": [],
            "_model_module": "@jupyter-widgets/controls",
            "_model_module_version": "1.5.0",
            "_model_name": "HBoxModel",
            "_view_count": null,
            "_view_module": "@jupyter-widgets/controls",
            "_view_module_version": "1.5.0",
            "_view_name": "HBoxView",
            "box_style": "",
            "children": [
              "IPY_MODEL_d45ff23447c24c9c98c77658e13dac88",
              "IPY_MODEL_6739182ed33e452ebb0ae33f20dc25ba",
              "IPY_MODEL_1fc0a2e7568d4380aa40cc21c80bf266"
            ],
            "layout": "IPY_MODEL_ccdc6c493e1e4ecf879795df123d9316"
          }
        },
        "d45ff23447c24c9c98c77658e13dac88": {
          "model_module": "@jupyter-widgets/controls",
          "model_name": "HTMLModel",
          "model_module_version": "1.5.0",
          "state": {
            "_dom_classes": [],
            "_model_module": "@jupyter-widgets/controls",
            "_model_module_version": "1.5.0",
            "_model_name": "HTMLModel",
            "_view_count": null,
            "_view_module": "@jupyter-widgets/controls",
            "_view_module_version": "1.5.0",
            "_view_name": "HTMLView",
            "description": "",
            "description_tooltip": null,
            "layout": "IPY_MODEL_e0cbfcd9b5ca4654a6253bb984b48baf",
            "placeholder": "​",
            "style": "IPY_MODEL_98374c497cbf49c88c23af7da7f6e3bf",
            "value": "config.json: 100%"
          }
        },
        "6739182ed33e452ebb0ae33f20dc25ba": {
          "model_module": "@jupyter-widgets/controls",
          "model_name": "FloatProgressModel",
          "model_module_version": "1.5.0",
          "state": {
            "_dom_classes": [],
            "_model_module": "@jupyter-widgets/controls",
            "_model_module_version": "1.5.0",
            "_model_name": "FloatProgressModel",
            "_view_count": null,
            "_view_module": "@jupyter-widgets/controls",
            "_view_module_version": "1.5.0",
            "_view_name": "ProgressView",
            "bar_style": "success",
            "description": "",
            "description_tooltip": null,
            "layout": "IPY_MODEL_eb80f19a13d141d2a99c5c899edfe299",
            "max": 740,
            "min": 0,
            "orientation": "horizontal",
            "style": "IPY_MODEL_8581e6046fda47be8d67f5b880464ecb",
            "value": 740
          }
        },
        "1fc0a2e7568d4380aa40cc21c80bf266": {
          "model_module": "@jupyter-widgets/controls",
          "model_name": "HTMLModel",
          "model_module_version": "1.5.0",
          "state": {
            "_dom_classes": [],
            "_model_module": "@jupyter-widgets/controls",
            "_model_module_version": "1.5.0",
            "_model_name": "HTMLModel",
            "_view_count": null,
            "_view_module": "@jupyter-widgets/controls",
            "_view_module_version": "1.5.0",
            "_view_name": "HTMLView",
            "description": "",
            "description_tooltip": null,
            "layout": "IPY_MODEL_72e5ef869bca4c3a850360913c363c8e",
            "placeholder": "​",
            "style": "IPY_MODEL_1587de08b60944eebc9471a191d04ef3",
            "value": " 740/740 [00:00&lt;00:00, 4.42kB/s]"
          }
        },
        "ccdc6c493e1e4ecf879795df123d9316": {
          "model_module": "@jupyter-widgets/base",
          "model_name": "LayoutModel",
          "model_module_version": "1.2.0",
          "state": {
            "_model_module": "@jupyter-widgets/base",
            "_model_module_version": "1.2.0",
            "_model_name": "LayoutModel",
            "_view_count": null,
            "_view_module": "@jupyter-widgets/base",
            "_view_module_version": "1.2.0",
            "_view_name": "LayoutView",
            "align_content": null,
            "align_items": null,
            "align_self": null,
            "border": null,
            "bottom": null,
            "display": null,
            "flex": null,
            "flex_flow": null,
            "grid_area": null,
            "grid_auto_columns": null,
            "grid_auto_flow": null,
            "grid_auto_rows": null,
            "grid_column": null,
            "grid_gap": null,
            "grid_row": null,
            "grid_template_areas": null,
            "grid_template_columns": null,
            "grid_template_rows": null,
            "height": null,
            "justify_content": null,
            "justify_items": null,
            "left": null,
            "margin": null,
            "max_height": null,
            "max_width": null,
            "min_height": null,
            "min_width": null,
            "object_fit": null,
            "object_position": null,
            "order": null,
            "overflow": null,
            "overflow_x": null,
            "overflow_y": null,
            "padding": null,
            "right": null,
            "top": null,
            "visibility": null,
            "width": null
          }
        },
        "e0cbfcd9b5ca4654a6253bb984b48baf": {
          "model_module": "@jupyter-widgets/base",
          "model_name": "LayoutModel",
          "model_module_version": "1.2.0",
          "state": {
            "_model_module": "@jupyter-widgets/base",
            "_model_module_version": "1.2.0",
            "_model_name": "LayoutModel",
            "_view_count": null,
            "_view_module": "@jupyter-widgets/base",
            "_view_module_version": "1.2.0",
            "_view_name": "LayoutView",
            "align_content": null,
            "align_items": null,
            "align_self": null,
            "border": null,
            "bottom": null,
            "display": null,
            "flex": null,
            "flex_flow": null,
            "grid_area": null,
            "grid_auto_columns": null,
            "grid_auto_flow": null,
            "grid_auto_rows": null,
            "grid_column": null,
            "grid_gap": null,
            "grid_row": null,
            "grid_template_areas": null,
            "grid_template_columns": null,
            "grid_template_rows": null,
            "height": null,
            "justify_content": null,
            "justify_items": null,
            "left": null,
            "margin": null,
            "max_height": null,
            "max_width": null,
            "min_height": null,
            "min_width": null,
            "object_fit": null,
            "object_position": null,
            "order": null,
            "overflow": null,
            "overflow_x": null,
            "overflow_y": null,
            "padding": null,
            "right": null,
            "top": null,
            "visibility": null,
            "width": null
          }
        },
        "98374c497cbf49c88c23af7da7f6e3bf": {
          "model_module": "@jupyter-widgets/controls",
          "model_name": "DescriptionStyleModel",
          "model_module_version": "1.5.0",
          "state": {
            "_model_module": "@jupyter-widgets/controls",
            "_model_module_version": "1.5.0",
            "_model_name": "DescriptionStyleModel",
            "_view_count": null,
            "_view_module": "@jupyter-widgets/base",
            "_view_module_version": "1.2.0",
            "_view_name": "StyleView",
            "description_width": ""
          }
        },
        "eb80f19a13d141d2a99c5c899edfe299": {
          "model_module": "@jupyter-widgets/base",
          "model_name": "LayoutModel",
          "model_module_version": "1.2.0",
          "state": {
            "_model_module": "@jupyter-widgets/base",
            "_model_module_version": "1.2.0",
            "_model_name": "LayoutModel",
            "_view_count": null,
            "_view_module": "@jupyter-widgets/base",
            "_view_module_version": "1.2.0",
            "_view_name": "LayoutView",
            "align_content": null,
            "align_items": null,
            "align_self": null,
            "border": null,
            "bottom": null,
            "display": null,
            "flex": null,
            "flex_flow": null,
            "grid_area": null,
            "grid_auto_columns": null,
            "grid_auto_flow": null,
            "grid_auto_rows": null,
            "grid_column": null,
            "grid_gap": null,
            "grid_row": null,
            "grid_template_areas": null,
            "grid_template_columns": null,
            "grid_template_rows": null,
            "height": null,
            "justify_content": null,
            "justify_items": null,
            "left": null,
            "margin": null,
            "max_height": null,
            "max_width": null,
            "min_height": null,
            "min_width": null,
            "object_fit": null,
            "object_position": null,
            "order": null,
            "overflow": null,
            "overflow_x": null,
            "overflow_y": null,
            "padding": null,
            "right": null,
            "top": null,
            "visibility": null,
            "width": null
          }
        },
        "8581e6046fda47be8d67f5b880464ecb": {
          "model_module": "@jupyter-widgets/controls",
          "model_name": "ProgressStyleModel",
          "model_module_version": "1.5.0",
          "state": {
            "_model_module": "@jupyter-widgets/controls",
            "_model_module_version": "1.5.0",
            "_model_name": "ProgressStyleModel",
            "_view_count": null,
            "_view_module": "@jupyter-widgets/base",
            "_view_module_version": "1.2.0",
            "_view_name": "StyleView",
            "bar_color": null,
            "description_width": ""
          }
        },
        "72e5ef869bca4c3a850360913c363c8e": {
          "model_module": "@jupyter-widgets/base",
          "model_name": "LayoutModel",
          "model_module_version": "1.2.0",
          "state": {
            "_model_module": "@jupyter-widgets/base",
            "_model_module_version": "1.2.0",
            "_model_name": "LayoutModel",
            "_view_count": null,
            "_view_module": "@jupyter-widgets/base",
            "_view_module_version": "1.2.0",
            "_view_name": "LayoutView",
            "align_content": null,
            "align_items": null,
            "align_self": null,
            "border": null,
            "bottom": null,
            "display": null,
            "flex": null,
            "flex_flow": null,
            "grid_area": null,
            "grid_auto_columns": null,
            "grid_auto_flow": null,
            "grid_auto_rows": null,
            "grid_column": null,
            "grid_gap": null,
            "grid_row": null,
            "grid_template_areas": null,
            "grid_template_columns": null,
            "grid_template_rows": null,
            "height": null,
            "justify_content": null,
            "justify_items": null,
            "left": null,
            "margin": null,
            "max_height": null,
            "max_width": null,
            "min_height": null,
            "min_width": null,
            "object_fit": null,
            "object_position": null,
            "order": null,
            "overflow": null,
            "overflow_x": null,
            "overflow_y": null,
            "padding": null,
            "right": null,
            "top": null,
            "visibility": null,
            "width": null
          }
        },
        "1587de08b60944eebc9471a191d04ef3": {
          "model_module": "@jupyter-widgets/controls",
          "model_name": "DescriptionStyleModel",
          "model_module_version": "1.5.0",
          "state": {
            "_model_module": "@jupyter-widgets/controls",
            "_model_module_version": "1.5.0",
            "_model_name": "DescriptionStyleModel",
            "_view_count": null,
            "_view_module": "@jupyter-widgets/base",
            "_view_module_version": "1.2.0",
            "_view_name": "StyleView",
            "description_width": ""
          }
        },
        "9482ad564a4e481c810e9ea7a88f4f68": {
          "model_module": "@jupyter-widgets/controls",
          "model_name": "HBoxModel",
          "model_module_version": "1.5.0",
          "state": {
            "_dom_classes": [],
            "_model_module": "@jupyter-widgets/controls",
            "_model_module_version": "1.5.0",
            "_model_name": "HBoxModel",
            "_view_count": null,
            "_view_module": "@jupyter-widgets/controls",
            "_view_module_version": "1.5.0",
            "_view_name": "HBoxView",
            "box_style": "",
            "children": [
              "IPY_MODEL_06268a39222f4bab9c14d237ac431494",
              "IPY_MODEL_998c5bbf48d34e03ad5245d7809b3f43",
              "IPY_MODEL_f85cdc1b2a1940ea9af7409e49efc3b6"
            ],
            "layout": "IPY_MODEL_4dfab088d3eb421da9cd630e247f5635"
          }
        },
        "06268a39222f4bab9c14d237ac431494": {
          "model_module": "@jupyter-widgets/controls",
          "model_name": "HTMLModel",
          "model_module_version": "1.5.0",
          "state": {
            "_dom_classes": [],
            "_model_module": "@jupyter-widgets/controls",
            "_model_module_version": "1.5.0",
            "_model_name": "HTMLModel",
            "_view_count": null,
            "_view_module": "@jupyter-widgets/controls",
            "_view_module_version": "1.5.0",
            "_view_name": "HTMLView",
            "description": "",
            "description_tooltip": null,
            "layout": "IPY_MODEL_9f3ff548312b4f02903c46ec245fbf12",
            "placeholder": "​",
            "style": "IPY_MODEL_bb4bf3818c6747a781dfe8cf18182dab",
            "value": "special_tokens_map.json: 100%"
          }
        },
        "998c5bbf48d34e03ad5245d7809b3f43": {
          "model_module": "@jupyter-widgets/controls",
          "model_name": "FloatProgressModel",
          "model_module_version": "1.5.0",
          "state": {
            "_dom_classes": [],
            "_model_module": "@jupyter-widgets/controls",
            "_model_module_version": "1.5.0",
            "_model_name": "FloatProgressModel",
            "_view_count": null,
            "_view_module": "@jupyter-widgets/controls",
            "_view_module_version": "1.5.0",
            "_view_name": "ProgressView",
            "bar_style": "success",
            "description": "",
            "description_tooltip": null,
            "layout": "IPY_MODEL_be96f2098a334d13a5bd7f1e036a7517",
            "max": 695,
            "min": 0,
            "orientation": "horizontal",
            "style": "IPY_MODEL_51baf8b425d742c5b14ca4acefb3d850",
            "value": 695
          }
        },
        "f85cdc1b2a1940ea9af7409e49efc3b6": {
          "model_module": "@jupyter-widgets/controls",
          "model_name": "HTMLModel",
          "model_module_version": "1.5.0",
          "state": {
            "_dom_classes": [],
            "_model_module": "@jupyter-widgets/controls",
            "_model_module_version": "1.5.0",
            "_model_name": "HTMLModel",
            "_view_count": null,
            "_view_module": "@jupyter-widgets/controls",
            "_view_module_version": "1.5.0",
            "_view_name": "HTMLView",
            "description": "",
            "description_tooltip": null,
            "layout": "IPY_MODEL_1b1ebc3badac428ca835ee90ebda9f22",
            "placeholder": "​",
            "style": "IPY_MODEL_e96c29c59be64418903388ba0e643238",
            "value": " 695/695 [00:00&lt;00:00, 4.54kB/s]"
          }
        },
        "4dfab088d3eb421da9cd630e247f5635": {
          "model_module": "@jupyter-widgets/base",
          "model_name": "LayoutModel",
          "model_module_version": "1.2.0",
          "state": {
            "_model_module": "@jupyter-widgets/base",
            "_model_module_version": "1.2.0",
            "_model_name": "LayoutModel",
            "_view_count": null,
            "_view_module": "@jupyter-widgets/base",
            "_view_module_version": "1.2.0",
            "_view_name": "LayoutView",
            "align_content": null,
            "align_items": null,
            "align_self": null,
            "border": null,
            "bottom": null,
            "display": null,
            "flex": null,
            "flex_flow": null,
            "grid_area": null,
            "grid_auto_columns": null,
            "grid_auto_flow": null,
            "grid_auto_rows": null,
            "grid_column": null,
            "grid_gap": null,
            "grid_row": null,
            "grid_template_areas": null,
            "grid_template_columns": null,
            "grid_template_rows": null,
            "height": null,
            "justify_content": null,
            "justify_items": null,
            "left": null,
            "margin": null,
            "max_height": null,
            "max_width": null,
            "min_height": null,
            "min_width": null,
            "object_fit": null,
            "object_position": null,
            "order": null,
            "overflow": null,
            "overflow_x": null,
            "overflow_y": null,
            "padding": null,
            "right": null,
            "top": null,
            "visibility": null,
            "width": null
          }
        },
        "9f3ff548312b4f02903c46ec245fbf12": {
          "model_module": "@jupyter-widgets/base",
          "model_name": "LayoutModel",
          "model_module_version": "1.2.0",
          "state": {
            "_model_module": "@jupyter-widgets/base",
            "_model_module_version": "1.2.0",
            "_model_name": "LayoutModel",
            "_view_count": null,
            "_view_module": "@jupyter-widgets/base",
            "_view_module_version": "1.2.0",
            "_view_name": "LayoutView",
            "align_content": null,
            "align_items": null,
            "align_self": null,
            "border": null,
            "bottom": null,
            "display": null,
            "flex": null,
            "flex_flow": null,
            "grid_area": null,
            "grid_auto_columns": null,
            "grid_auto_flow": null,
            "grid_auto_rows": null,
            "grid_column": null,
            "grid_gap": null,
            "grid_row": null,
            "grid_template_areas": null,
            "grid_template_columns": null,
            "grid_template_rows": null,
            "height": null,
            "justify_content": null,
            "justify_items": null,
            "left": null,
            "margin": null,
            "max_height": null,
            "max_width": null,
            "min_height": null,
            "min_width": null,
            "object_fit": null,
            "object_position": null,
            "order": null,
            "overflow": null,
            "overflow_x": null,
            "overflow_y": null,
            "padding": null,
            "right": null,
            "top": null,
            "visibility": null,
            "width": null
          }
        },
        "bb4bf3818c6747a781dfe8cf18182dab": {
          "model_module": "@jupyter-widgets/controls",
          "model_name": "DescriptionStyleModel",
          "model_module_version": "1.5.0",
          "state": {
            "_model_module": "@jupyter-widgets/controls",
            "_model_module_version": "1.5.0",
            "_model_name": "DescriptionStyleModel",
            "_view_count": null,
            "_view_module": "@jupyter-widgets/base",
            "_view_module_version": "1.2.0",
            "_view_name": "StyleView",
            "description_width": ""
          }
        },
        "be96f2098a334d13a5bd7f1e036a7517": {
          "model_module": "@jupyter-widgets/base",
          "model_name": "LayoutModel",
          "model_module_version": "1.2.0",
          "state": {
            "_model_module": "@jupyter-widgets/base",
            "_model_module_version": "1.2.0",
            "_model_name": "LayoutModel",
            "_view_count": null,
            "_view_module": "@jupyter-widgets/base",
            "_view_module_version": "1.2.0",
            "_view_name": "LayoutView",
            "align_content": null,
            "align_items": null,
            "align_self": null,
            "border": null,
            "bottom": null,
            "display": null,
            "flex": null,
            "flex_flow": null,
            "grid_area": null,
            "grid_auto_columns": null,
            "grid_auto_flow": null,
            "grid_auto_rows": null,
            "grid_column": null,
            "grid_gap": null,
            "grid_row": null,
            "grid_template_areas": null,
            "grid_template_columns": null,
            "grid_template_rows": null,
            "height": null,
            "justify_content": null,
            "justify_items": null,
            "left": null,
            "margin": null,
            "max_height": null,
            "max_width": null,
            "min_height": null,
            "min_width": null,
            "object_fit": null,
            "object_position": null,
            "order": null,
            "overflow": null,
            "overflow_x": null,
            "overflow_y": null,
            "padding": null,
            "right": null,
            "top": null,
            "visibility": null,
            "width": null
          }
        },
        "51baf8b425d742c5b14ca4acefb3d850": {
          "model_module": "@jupyter-widgets/controls",
          "model_name": "ProgressStyleModel",
          "model_module_version": "1.5.0",
          "state": {
            "_model_module": "@jupyter-widgets/controls",
            "_model_module_version": "1.5.0",
            "_model_name": "ProgressStyleModel",
            "_view_count": null,
            "_view_module": "@jupyter-widgets/base",
            "_view_module_version": "1.2.0",
            "_view_name": "StyleView",
            "bar_color": null,
            "description_width": ""
          }
        },
        "1b1ebc3badac428ca835ee90ebda9f22": {
          "model_module": "@jupyter-widgets/base",
          "model_name": "LayoutModel",
          "model_module_version": "1.2.0",
          "state": {
            "_model_module": "@jupyter-widgets/base",
            "_model_module_version": "1.2.0",
            "_model_name": "LayoutModel",
            "_view_count": null,
            "_view_module": "@jupyter-widgets/base",
            "_view_module_version": "1.2.0",
            "_view_name": "LayoutView",
            "align_content": null,
            "align_items": null,
            "align_self": null,
            "border": null,
            "bottom": null,
            "display": null,
            "flex": null,
            "flex_flow": null,
            "grid_area": null,
            "grid_auto_columns": null,
            "grid_auto_flow": null,
            "grid_auto_rows": null,
            "grid_column": null,
            "grid_gap": null,
            "grid_row": null,
            "grid_template_areas": null,
            "grid_template_columns": null,
            "grid_template_rows": null,
            "height": null,
            "justify_content": null,
            "justify_items": null,
            "left": null,
            "margin": null,
            "max_height": null,
            "max_width": null,
            "min_height": null,
            "min_width": null,
            "object_fit": null,
            "object_position": null,
            "order": null,
            "overflow": null,
            "overflow_x": null,
            "overflow_y": null,
            "padding": null,
            "right": null,
            "top": null,
            "visibility": null,
            "width": null
          }
        },
        "e96c29c59be64418903388ba0e643238": {
          "model_module": "@jupyter-widgets/controls",
          "model_name": "DescriptionStyleModel",
          "model_module_version": "1.5.0",
          "state": {
            "_model_module": "@jupyter-widgets/controls",
            "_model_module_version": "1.5.0",
            "_model_name": "DescriptionStyleModel",
            "_view_count": null,
            "_view_module": "@jupyter-widgets/base",
            "_view_module_version": "1.2.0",
            "_view_name": "StyleView",
            "description_width": ""
          }
        },
        "76c95f9df2ed47aea133efc4bbe4da65": {
          "model_module": "@jupyter-widgets/controls",
          "model_name": "HBoxModel",
          "model_module_version": "1.5.0",
          "state": {
            "_dom_classes": [],
            "_model_module": "@jupyter-widgets/controls",
            "_model_module_version": "1.5.0",
            "_model_name": "HBoxModel",
            "_view_count": null,
            "_view_module": "@jupyter-widgets/controls",
            "_view_module_version": "1.5.0",
            "_view_name": "HBoxView",
            "box_style": "",
            "children": [
              "IPY_MODEL_19edf21a57194fc79a5cd1a89c4df6f8",
              "IPY_MODEL_ee70f7d9f33b4020be285ebdf8f61862",
              "IPY_MODEL_ee988f87cce44dea9b37488b76bd790e"
            ],
            "layout": "IPY_MODEL_327835ad9738446487d7e06265364b7f"
          }
        },
        "19edf21a57194fc79a5cd1a89c4df6f8": {
          "model_module": "@jupyter-widgets/controls",
          "model_name": "HTMLModel",
          "model_module_version": "1.5.0",
          "state": {
            "_dom_classes": [],
            "_model_module": "@jupyter-widgets/controls",
            "_model_module_version": "1.5.0",
            "_model_name": "HTMLModel",
            "_view_count": null,
            "_view_module": "@jupyter-widgets/controls",
            "_view_module_version": "1.5.0",
            "_view_name": "HTMLView",
            "description": "",
            "description_tooltip": null,
            "layout": "IPY_MODEL_2437939167e642079881dd9b590b8769",
            "placeholder": "​",
            "style": "IPY_MODEL_d9bf2742578c4cf1a042afddaef65c92",
            "value": "model_optimized.onnx: 100%"
          }
        },
        "ee70f7d9f33b4020be285ebdf8f61862": {
          "model_module": "@jupyter-widgets/controls",
          "model_name": "FloatProgressModel",
          "model_module_version": "1.5.0",
          "state": {
            "_dom_classes": [],
            "_model_module": "@jupyter-widgets/controls",
            "_model_module_version": "1.5.0",
            "_model_name": "FloatProgressModel",
            "_view_count": null,
            "_view_module": "@jupyter-widgets/controls",
            "_view_module_version": "1.5.0",
            "_view_name": "ProgressView",
            "bar_style": "success",
            "description": "",
            "description_tooltip": null,
            "layout": "IPY_MODEL_c38b1f2464ee483bb2077b9c35ef979e",
            "max": 217824172,
            "min": 0,
            "orientation": "horizontal",
            "style": "IPY_MODEL_eb13d2c7b3bb4a9b9d95c726ff891537",
            "value": 217824172
          }
        },
        "ee988f87cce44dea9b37488b76bd790e": {
          "model_module": "@jupyter-widgets/controls",
          "model_name": "HTMLModel",
          "model_module_version": "1.5.0",
          "state": {
            "_dom_classes": [],
            "_model_module": "@jupyter-widgets/controls",
            "_model_module_version": "1.5.0",
            "_model_name": "HTMLModel",
            "_view_count": null,
            "_view_module": "@jupyter-widgets/controls",
            "_view_module_version": "1.5.0",
            "_view_name": "HTMLView",
            "description": "",
            "description_tooltip": null,
            "layout": "IPY_MODEL_9f30dab191654ddeb1e7f0b5867c5563",
            "placeholder": "​",
            "style": "IPY_MODEL_52fe8c1f17df4481a92496dedab47277",
            "value": " 218M/218M [00:05&lt;00:00, 42.0MB/s]"
          }
        },
        "327835ad9738446487d7e06265364b7f": {
          "model_module": "@jupyter-widgets/base",
          "model_name": "LayoutModel",
          "model_module_version": "1.2.0",
          "state": {
            "_model_module": "@jupyter-widgets/base",
            "_model_module_version": "1.2.0",
            "_model_name": "LayoutModel",
            "_view_count": null,
            "_view_module": "@jupyter-widgets/base",
            "_view_module_version": "1.2.0",
            "_view_name": "LayoutView",
            "align_content": null,
            "align_items": null,
            "align_self": null,
            "border": null,
            "bottom": null,
            "display": null,
            "flex": null,
            "flex_flow": null,
            "grid_area": null,
            "grid_auto_columns": null,
            "grid_auto_flow": null,
            "grid_auto_rows": null,
            "grid_column": null,
            "grid_gap": null,
            "grid_row": null,
            "grid_template_areas": null,
            "grid_template_columns": null,
            "grid_template_rows": null,
            "height": null,
            "justify_content": null,
            "justify_items": null,
            "left": null,
            "margin": null,
            "max_height": null,
            "max_width": null,
            "min_height": null,
            "min_width": null,
            "object_fit": null,
            "object_position": null,
            "order": null,
            "overflow": null,
            "overflow_x": null,
            "overflow_y": null,
            "padding": null,
            "right": null,
            "top": null,
            "visibility": null,
            "width": null
          }
        },
        "2437939167e642079881dd9b590b8769": {
          "model_module": "@jupyter-widgets/base",
          "model_name": "LayoutModel",
          "model_module_version": "1.2.0",
          "state": {
            "_model_module": "@jupyter-widgets/base",
            "_model_module_version": "1.2.0",
            "_model_name": "LayoutModel",
            "_view_count": null,
            "_view_module": "@jupyter-widgets/base",
            "_view_module_version": "1.2.0",
            "_view_name": "LayoutView",
            "align_content": null,
            "align_items": null,
            "align_self": null,
            "border": null,
            "bottom": null,
            "display": null,
            "flex": null,
            "flex_flow": null,
            "grid_area": null,
            "grid_auto_columns": null,
            "grid_auto_flow": null,
            "grid_auto_rows": null,
            "grid_column": null,
            "grid_gap": null,
            "grid_row": null,
            "grid_template_areas": null,
            "grid_template_columns": null,
            "grid_template_rows": null,
            "height": null,
            "justify_content": null,
            "justify_items": null,
            "left": null,
            "margin": null,
            "max_height": null,
            "max_width": null,
            "min_height": null,
            "min_width": null,
            "object_fit": null,
            "object_position": null,
            "order": null,
            "overflow": null,
            "overflow_x": null,
            "overflow_y": null,
            "padding": null,
            "right": null,
            "top": null,
            "visibility": null,
            "width": null
          }
        },
        "d9bf2742578c4cf1a042afddaef65c92": {
          "model_module": "@jupyter-widgets/controls",
          "model_name": "DescriptionStyleModel",
          "model_module_version": "1.5.0",
          "state": {
            "_model_module": "@jupyter-widgets/controls",
            "_model_module_version": "1.5.0",
            "_model_name": "DescriptionStyleModel",
            "_view_count": null,
            "_view_module": "@jupyter-widgets/base",
            "_view_module_version": "1.2.0",
            "_view_name": "StyleView",
            "description_width": ""
          }
        },
        "c38b1f2464ee483bb2077b9c35ef979e": {
          "model_module": "@jupyter-widgets/base",
          "model_name": "LayoutModel",
          "model_module_version": "1.2.0",
          "state": {
            "_model_module": "@jupyter-widgets/base",
            "_model_module_version": "1.2.0",
            "_model_name": "LayoutModel",
            "_view_count": null,
            "_view_module": "@jupyter-widgets/base",
            "_view_module_version": "1.2.0",
            "_view_name": "LayoutView",
            "align_content": null,
            "align_items": null,
            "align_self": null,
            "border": null,
            "bottom": null,
            "display": null,
            "flex": null,
            "flex_flow": null,
            "grid_area": null,
            "grid_auto_columns": null,
            "grid_auto_flow": null,
            "grid_auto_rows": null,
            "grid_column": null,
            "grid_gap": null,
            "grid_row": null,
            "grid_template_areas": null,
            "grid_template_columns": null,
            "grid_template_rows": null,
            "height": null,
            "justify_content": null,
            "justify_items": null,
            "left": null,
            "margin": null,
            "max_height": null,
            "max_width": null,
            "min_height": null,
            "min_width": null,
            "object_fit": null,
            "object_position": null,
            "order": null,
            "overflow": null,
            "overflow_x": null,
            "overflow_y": null,
            "padding": null,
            "right": null,
            "top": null,
            "visibility": null,
            "width": null
          }
        },
        "eb13d2c7b3bb4a9b9d95c726ff891537": {
          "model_module": "@jupyter-widgets/controls",
          "model_name": "ProgressStyleModel",
          "model_module_version": "1.5.0",
          "state": {
            "_model_module": "@jupyter-widgets/controls",
            "_model_module_version": "1.5.0",
            "_model_name": "ProgressStyleModel",
            "_view_count": null,
            "_view_module": "@jupyter-widgets/base",
            "_view_module_version": "1.2.0",
            "_view_name": "StyleView",
            "bar_color": null,
            "description_width": ""
          }
        },
        "9f30dab191654ddeb1e7f0b5867c5563": {
          "model_module": "@jupyter-widgets/base",
          "model_name": "LayoutModel",
          "model_module_version": "1.2.0",
          "state": {
            "_model_module": "@jupyter-widgets/base",
            "_model_module_version": "1.2.0",
            "_model_name": "LayoutModel",
            "_view_count": null,
            "_view_module": "@jupyter-widgets/base",
            "_view_module_version": "1.2.0",
            "_view_name": "LayoutView",
            "align_content": null,
            "align_items": null,
            "align_self": null,
            "border": null,
            "bottom": null,
            "display": null,
            "flex": null,
            "flex_flow": null,
            "grid_area": null,
            "grid_auto_columns": null,
            "grid_auto_flow": null,
            "grid_auto_rows": null,
            "grid_column": null,
            "grid_gap": null,
            "grid_row": null,
            "grid_template_areas": null,
            "grid_template_columns": null,
            "grid_template_rows": null,
            "height": null,
            "justify_content": null,
            "justify_items": null,
            "left": null,
            "margin": null,
            "max_height": null,
            "max_width": null,
            "min_height": null,
            "min_width": null,
            "object_fit": null,
            "object_position": null,
            "order": null,
            "overflow": null,
            "overflow_x": null,
            "overflow_y": null,
            "padding": null,
            "right": null,
            "top": null,
            "visibility": null,
            "width": null
          }
        },
        "52fe8c1f17df4481a92496dedab47277": {
          "model_module": "@jupyter-widgets/controls",
          "model_name": "DescriptionStyleModel",
          "model_module_version": "1.5.0",
          "state": {
            "_model_module": "@jupyter-widgets/controls",
            "_model_module_version": "1.5.0",
            "_model_name": "DescriptionStyleModel",
            "_view_count": null,
            "_view_module": "@jupyter-widgets/base",
            "_view_module_version": "1.2.0",
            "_view_name": "StyleView",
            "description_width": ""
          }
        }
      }
    },
    "accelerator": "GPU"
  },
  "cells": [
    {
      "cell_type": "markdown",
      "metadata": {
        "id": "view-in-github",
        "colab_type": "text"
      },
      "source": [
        "<a href=\"https://colab.research.google.com/github/yogesh-bhattarai/GEN_AI/blob/main/Copy_of_chatbot2_0.ipynb\" target=\"_parent\"><img src=\"https://colab.research.google.com/assets/colab-badge.svg\" alt=\"Open In Colab\"/></a>"
      ]
    },
    {
      "cell_type": "code",
      "execution_count": null,
      "metadata": {
        "id": "lYmsMnJRCnkN",
        "colab": {
          "base_uri": "https://localhost:8080/"
        },
        "outputId": "18a7b1b5-e259-44dc-f6bc-9f5872899b3c"
      },
      "outputs": [
        {
          "output_type": "stream",
          "name": "stdout",
          "text": [
            "\u001b[31mERROR: pip's dependency resolver does not currently take into account all the packages that are installed. This behaviour is the source of the following dependency conflicts.\n",
            "langchain 0.3.7 requires langchain-core<0.4.0,>=0.3.15, but you have langchain-core 0.1.53 which is incompatible.\n",
            "langchain-text-splitters 0.3.2 requires langchain-core<0.4.0,>=0.3.15, but you have langchain-core 0.1.53 which is incompatible.\u001b[0m\u001b[31m\n",
            "\u001b[0m\u001b[31mERROR: pip's dependency resolver does not currently take into account all the packages that are installed. This behaviour is the source of the following dependency conflicts.\n",
            "tensorflow 2.17.1 requires protobuf!=4.21.0,!=4.21.1,!=4.21.2,!=4.21.3,!=4.21.4,!=4.21.5,<5.0.0dev,>=3.20.3, but you have protobuf 5.28.3 which is incompatible.\n",
            "tensorflow-metadata 1.13.1 requires protobuf<5,>=3.20.3, but you have protobuf 5.28.3 which is incompatible.\u001b[0m\u001b[31m\n",
            "\u001b[0m  Preparing metadata (setup.py) ... \u001b[?25l\u001b[?25hdone\n",
            "  Building wheel for langdetect (setup.py) ... \u001b[?25l\u001b[?25hdone\n",
            "\u001b[31mERROR: pip's dependency resolver does not currently take into account all the packages that are installed. This behaviour is the source of the following dependency conflicts.\n",
            "accelerate 1.1.1 requires huggingface-hub>=0.21.0, but you have huggingface-hub 0.20.3 which is incompatible.\n",
            "diffusers 0.31.0 requires huggingface-hub>=0.23.2, but you have huggingface-hub 0.20.3 which is incompatible.\n",
            "transformers 4.46.2 requires huggingface-hub<1.0,>=0.23.2, but you have huggingface-hub 0.20.3 which is incompatible.\n",
            "transformers 4.46.2 requires tokenizers<0.21,>=0.20, but you have tokenizers 0.15.2 which is incompatible.\u001b[0m\u001b[31m\n",
            "\u001b[0m  Installing build dependencies ... \u001b[?25l\u001b[?25hdone\n",
            "  Getting requirements to build wheel ... \u001b[?25l\u001b[?25hdone\n",
            "  Installing backend dependencies ... \u001b[?25l\u001b[?25hdone\n",
            "  Preparing metadata (pyproject.toml) ... \u001b[?25l\u001b[?25hdone\n"
          ]
        }
      ],
      "source": [
        "!pip -qqq install pip --progress-bar off\n",
        "!pip -qqq install langchain-groq==0.1.3 --progress-bar off\n",
        "!pip -qqq install langchain==0.1.17 --progress-bar off\n",
        "!pip -qqq install llama-parse==0.1.3 --progress-bar off\n",
        "!pip -qqq install qdrant-client==1.9.1  --progress-bar off\n",
        "!pip -qqq install \"unstructured[md]\"==0.13.6 --progress-bar off\n",
        "!pip -qqq install fastembed==0.2.7 --progress-bar off\n",
        "!pip -qqq install flashrank==0.2.4 --progress-bar off"
      ]
    },
    {
      "cell_type": "code",
      "source": [
        "import os\n",
        "import textwrap\n",
        "from pathlib import Path\n",
        "\n",
        "from google.colab import userdata\n",
        "from IPython.display import Markdown\n",
        "from langchain.chains import RetrievalQA\n",
        "from langchain.prompts import PromptTemplate\n",
        "from langchain.retrievers import ContextualCompressionRetriever\n",
        "from langchain.retrievers.document_compressors import FlashrankRerank\n",
        "from langchain.text_splitter import RecursiveCharacterTextSplitter\n",
        "from langchain.vectorstores import Qdrant\n",
        "from langchain_community.document_loaders import UnstructuredMarkdownLoader\n",
        "from langchain_community.embeddings.fastembed import FastEmbedEmbeddings\n",
        "from langchain_core.prompts import ChatPromptTemplate\n",
        "from langchain_groq import ChatGroq\n",
        "from llama_parse import LlamaParse\n",
        "\n",
        "os.environ[\"GROQ_API_KEY\"] =(\"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\")\n",
        "\n",
        "\n",
        "def print_response(response):\n",
        "    response_txt = response[\"result\"]\n",
        "    for chunk in response_txt.split(\"\\n\"):\n",
        "        if not chunk:\n",
        "            print()\n",
        "            continue\n",
        "        print(\"\\n\".join(textwrap.wrap(chunk, 100, break_long_words=False)))"
      ],
      "metadata": {
        "id": "Z1AjKN0GEIXA"
      },
      "execution_count": null,
      "outputs": []
    },
    {
      "cell_type": "code",
      "source": [
        "# Directory create garne jasma file store garne cha\n",
        "!mkdir -p data\n",
        "\n",
        "# Gdown bata file download garna ko lagi\n",
        "!gdown 1fQxAbLihJfQzUXKYWzI5FiyRt9Ny9kqi -O \"data/sarkari chatbot.pdf\""
      ],
      "metadata": {
        "colab": {
          "base_uri": "https://localhost:8080/"
        },
        "id": "Zzdi48xwFLpk",
        "outputId": "6b5e9995-9a75-4032-a5e6-94d3e8d6553c"
      },
      "execution_count": null,
      "outputs": [
        {
          "output_type": "stream",
          "name": "stdout",
          "text": [
            "Downloading...\n",
            "From: https://drive.google.com/uc?id=1fQxAbLihJfQzUXKYWzI5FiyRt9Ny9kqi\n",
            "To: /content/data/sarkari chatbot.pdf\n",
            "\r  0% 0.00/473k [00:00<?, ?B/s]\r100% 473k/473k [00:00<00:00, 36.7MB/s]\n"
          ]
        }
      ]
    },
    {
      "cell_type": "code",
      "source": [
        "from llama_parse import LlamaParse\n",
        "# API key manually set gareko cha\n",
        "os.environ[\"LLAMA_PARSE\"] = \"llx-8k3jeCf570YjQQLz5qaMXinq8ZJgVOugf5C4397sAnn6UJxd\"\n",
        "instruction = \"\"\"This pdf is about rules for getting citizenship in Nepal.\n",
        "it gives detailed information and cases for citizenship. Try to be very precise while answering the questions, give answer in very short.\"\"\"\n",
        "\n",
        "parser = LlamaParse(\n",
        "    api_key=userdata.get(\"LLAMA_PARSE\"),\n",
        "    result_type=\"markdown\",\n",
        "    parsing_instruction=instruction,\n",
        "    max_timeout=5000,\n",
        ")\n",
        "\n",
        "llama_parse_documents = await parser.aload_data(\"./data/sarkari chatbot.pdf\")"
      ],
      "metadata": {
        "colab": {
          "base_uri": "https://localhost:8080/"
        },
        "id": "oMA5Se7MFaZW",
        "outputId": "17252921-ae3f-41ff-a96b-e6aa8076fb2e"
      },
      "execution_count": null,
      "outputs": [
        {
          "output_type": "stream",
          "name": "stdout",
          "text": [
            "Started parsing the file under job_id b7d09489-d6eb-4b4b-87bd-e96d537e4451\n"
          ]
        }
      ]
    },
    {
      "cell_type": "code",
      "source": [
        "parsed_doc = llama_parse_documents[0]"
      ],
      "metadata": {
        "id": "Xwk4BS_rGMUb"
      },
      "execution_count": null,
      "outputs": []
    },
    {
      "cell_type": "code",
      "source": [
        "Markdown(parsed_doc.text[:4096])"
      ],
      "metadata": {
        "colab": {
          "base_uri": "https://localhost:8080/",
          "height": 1000
        },
        "id": "99IJLh2PGNFQ",
        "outputId": "5567eb09-9e49-4e93-8c38-ece22dedd532"
      },
      "execution_count": null,
      "outputs": [
        {
          "output_type": "execute_result",
          "data": {
            "text/plain": [
              "<IPython.core.display.Markdown object>"
            ],
            "text/markdown": "# Nepal Citizenship Act, 2063\n\nDate of authentication and publication: 2063.8.10\n\n# Act to amend\n\n1. Act to amend certain Nepal Acts, 2064 - 2064.5.9\n2. Act to amend some Nepal Acts, 2072 - 2072.11.13\n\n2063 Act No. 25\n\n# An Act to amend and unify Nepal's laws related to citizenship\n\nForeword: As a result of the historical people's movement, the sovereignty of Nepal is vested in the Nepali people and the source of state power is the Nepali people. Realizing the situation in which Nepalese citizens are facing difficulties in the past due to their inability to obtain citizenship certificates, the House of Representatives made a resolution to solve the citizenship-related problems within the state of Nepal as soon as possible, 2063. Based on the political agreement reached on 22nd Kartik, it is desirable to timely amend and unify the existing legal system to arrange the acquisition, termination and other related matters of Nepalese citizenship.\n\nThe House of Representatives made this Act in the first year after the Declaration of the House of Representatives, 2063 was issued.\n\n# 1. Abbreviation and Commencement:\n\n1. The name of this Act is “Nepal Citizenship Act, 2063”.\n2. This Act shall come into force immediately.\n\n# 2. Definition:\n\nIn this Act, unless the subject or context requires otherwise:\n\n1. \"Minor\" means a person who has not completed sixteen years of age.\n2. \"Person\" means a natural person.\n3. \"Prescribed\" or \"as prescribed\" means prescribed or prescribed in the rules made under this Act.\n\n# 3. Acquisition of Nepalese citizenship by descent:\n\n1. If a person's father or mother is a citizen of Nepal at the time of his birth, such a person shall be a citizen of Nepal by descent.\n2. Notwithstanding anything written in sub-section (1), in the case of children born to a Nepali citizen woman who marries a foreign citizen, it shall be in accordance with sub-section (2) of section 5.\n3. Every minor who does not have a paternal and maternal address found within the borders of Nepal shall be considered a citizen of Nepal as a descendant until his father or mother is found.\n\n# 4. Acquisition of Nepalese citizenship by birth:\n\n1. A person who was born within the borders of Nepal until the end of Chaitra year 2046 and has been permanently residing in Nepal shall be a citizen of Nepal by birth.\n---\n(2) According to sub-section (1), a person who wishes to obtain a certificate of citizenship shall submit an application before the election of the Constituent Assembly and the provision of the certificate of citizenship shall be as prescribed.\n\n(3) A person who is unable to submit an application within the time period specified in sub-section (2) due to special reasons may submit an application as prescribed within two years from the date of commencement of this Act.\n\n# 5. Acquiring recognized Nepali citizenship:\n\n(1) If a foreign woman who is married to a Nepali citizen wants to obtain Nepali citizenship, she must submit an application to the designated authority in the prescribed format. When making such an application, you will also have to submit proof of your marital relationship with a Nepalese citizen and the fact that you have taken action to renounce your foreign citizenship.\n\n(2) In the case of children born to a Nepali citizen woman married to a foreign citizen, if he was born in Nepal and resided in Nepal permanently, and based on the citizenship of his father, he has not acquired the citizenship of a foreign country, then he can be granted recognized citizenship as prescribed.\n\n(3) In accordance with sub-section (2), a person who wishes to obtain recognized citizenship shall submit an application to the designated authority by attaching the following documents:\n\n- (a) Copy of mother's certificate of Nepalese citizenship,\n- (b) Recommendation of the village or municipality related to the opening of the case of birth and permanent residence in Nepal,\n- (c) Non-citizenship of any foreign country on the basis of father's citizenship.\n\n(4) Among the foreign nationals who have fulfilled the following conditions and conditions,"
          },
          "metadata": {},
          "execution_count": 6
        }
      ]
    },
    {
      "cell_type": "code",
      "source": [
        "document_path = Path(\"data/parsed_document.md\")\n",
        "with document_path.open(\"a\") as f:\n",
        "    f.write(parsed_doc.text)"
      ],
      "metadata": {
        "id": "pbDrRg7cGQEU"
      },
      "execution_count": null,
      "outputs": []
    },
    {
      "cell_type": "code",
      "source": [
        "import nltk\n",
        "nltk.download('punkt_tab')\n",
        "nltk.download('averaged_perceptron_tagger_eng')\n",
        "loader = UnstructuredMarkdownLoader(document_path)\n",
        "loaded_documents = loader.load()"
      ],
      "metadata": {
        "colab": {
          "base_uri": "https://localhost:8080/"
        },
        "id": "nK-UzqZjGUNq",
        "outputId": "3da038b7-cfdb-4918-df79-4691aee24ea1"
      },
      "execution_count": null,
      "outputs": [
        {
          "output_type": "stream",
          "name": "stderr",
          "text": [
            "[nltk_data] Downloading package punkt_tab to /root/nltk_data...\n",
            "[nltk_data]   Unzipping tokenizers/punkt_tab.zip.\n",
            "[nltk_data] Downloading package averaged_perceptron_tagger_eng to\n",
            "[nltk_data]     /root/nltk_data...\n",
            "[nltk_data]   Unzipping taggers/averaged_perceptron_tagger_eng.zip.\n",
            "[nltk_data] Downloading package averaged_perceptron_tagger to\n",
            "[nltk_data]     /root/nltk_data...\n",
            "[nltk_data]   Unzipping taggers/averaged_perceptron_tagger.zip.\n"
          ]
        }
      ]
    },
    {
      "cell_type": "code",
      "source": [
        "text_splitter = RecursiveCharacterTextSplitter(chunk_size=2048, chunk_overlap=128)\n",
        "docs = text_splitter.split_documents(loaded_documents)\n",
        "len(docs)"
      ],
      "metadata": {
        "colab": {
          "base_uri": "https://localhost:8080/"
        },
        "id": "9qm2SE6LGXBN",
        "outputId": "7308ad77-23c4-45d1-b15f-50b56cdcf83b"
      },
      "execution_count": null,
      "outputs": [
        {
          "output_type": "execute_result",
          "data": {
            "text/plain": [
              "11"
            ]
          },
          "metadata": {},
          "execution_count": 9
        }
      ]
    },
    {
      "cell_type": "code",
      "source": [
        "embeddings = FastEmbedEmbeddings(model_name=\"BAAI/bge-base-en-v1.5\")\n",
        "qdrant = Qdrant.from_documents(\n",
        "    docs,\n",
        "    embeddings,\n",
        "    # location=\":memory:\",\n",
        "    path=\"./db\",\n",
        "    collection_name=\"document_embeddings\",\n",
        ")"
      ],
      "metadata": {
        "colab": {
          "base_uri": "https://localhost:8080/",
          "height": 333,
          "referenced_widgets": [
            "f3063b3bfc7f4498a19e06d93adc7618",
            "732dc4b21a8e4002b1951ba47beb60aa",
            "7b0f8c13ae4246b7990690540a94311a",
            "095e8720fc124ddf972305a3410a4e1a",
            "1e18e6bdf4554c03a10e461a41f7b529",
            "24f45f7670694297b3b9d72ed398ee1a",
            "93e85fec634c48bbb7ea527b4964f69e",
            "9d7dc9afe03e426e9cc35093dec01523",
            "e80c0655a5c549b28c3fa50eff1e240f",
            "48e933a1ff904ba1b19bdfe218a5d0f5",
            "35242b0a0f32463e810abec29231d1cc",
            "74734975e103481fa0032e2663bd419a",
            "f8996b0d2bbe4c559c39e30ae3ac2bf0",
            "21cc7c37a4184cd096211d310491a84a",
            "4952ad557e1544f2984527548be2e4d2",
            "3f3d2bdc1f7243da8deaff86dddb4c68",
            "853ce32a8e6745299a49d47b7020d0e5",
            "ed260797bf364d2da1e309657387fc03",
            "811cbba2872b46889148b7b433ceb79b",
            "59c31813ad6b46b29fa64044049cb908",
            "d4d6b5f824ce4047a195aef2b88b3cb9",
            "77c779dee36e4641956954baecf17610",
            "7b82a8144cae462ea2f7f43dba9b0708",
            "d92071debeb349ffbab5c64dcf344d69",
            "77e84ac71df1427e9eb14891f0aa51d4",
            "852cc73746d947bfa8f0fe0580040122",
            "d777bf95d3014372bbee9a4059ad213e",
            "379a3fee168b4fd4b82c3169a48533c4",
            "4303f0e715cd4f359e62310f38003599",
            "d0ace2f93b3c4e48a104167343441180",
            "b56bc227b62240eebbc1fd5feebdcd9a",
            "1373d297e6d248bd995e0f84f2cf49bc",
            "0ed00727060b4ae4ac37baede59dc6ad",
            "e356d430628f46b98072fd71df518154",
            "d45ff23447c24c9c98c77658e13dac88",
            "6739182ed33e452ebb0ae33f20dc25ba",
            "1fc0a2e7568d4380aa40cc21c80bf266",
            "ccdc6c493e1e4ecf879795df123d9316",
            "e0cbfcd9b5ca4654a6253bb984b48baf",
            "98374c497cbf49c88c23af7da7f6e3bf",
            "eb80f19a13d141d2a99c5c899edfe299",
            "8581e6046fda47be8d67f5b880464ecb",
            "72e5ef869bca4c3a850360913c363c8e",
            "1587de08b60944eebc9471a191d04ef3",
            "9482ad564a4e481c810e9ea7a88f4f68",
            "06268a39222f4bab9c14d237ac431494",
            "998c5bbf48d34e03ad5245d7809b3f43",
            "f85cdc1b2a1940ea9af7409e49efc3b6",
            "4dfab088d3eb421da9cd630e247f5635",
            "9f3ff548312b4f02903c46ec245fbf12",
            "bb4bf3818c6747a781dfe8cf18182dab",
            "be96f2098a334d13a5bd7f1e036a7517",
            "51baf8b425d742c5b14ca4acefb3d850",
            "1b1ebc3badac428ca835ee90ebda9f22",
            "e96c29c59be64418903388ba0e643238",
            "76c95f9df2ed47aea133efc4bbe4da65",
            "19edf21a57194fc79a5cd1a89c4df6f8",
            "ee70f7d9f33b4020be285ebdf8f61862",
            "ee988f87cce44dea9b37488b76bd790e",
            "327835ad9738446487d7e06265364b7f",
            "2437939167e642079881dd9b590b8769",
            "d9bf2742578c4cf1a042afddaef65c92",
            "c38b1f2464ee483bb2077b9c35ef979e",
            "eb13d2c7b3bb4a9b9d95c726ff891537",
            "9f30dab191654ddeb1e7f0b5867c5563",
            "52fe8c1f17df4481a92496dedab47277"
          ]
        },
        "id": "cXnUPtjgG5ja",
        "outputId": "d7c11ba3-7225-484a-9b4e-cd72770c1b75"
      },
      "execution_count": null,
      "outputs": [
        {
          "output_type": "stream",
          "name": "stderr",
          "text": [
            "/usr/local/lib/python3.10/dist-packages/huggingface_hub/utils/_token.py:88: UserWarning: \n",
            "The secret `HF_TOKEN` does not exist in your Colab secrets.\n",
            "To authenticate with the Hugging Face Hub, create a token in your settings tab (https://huggingface.co/settings/tokens), set it as secret in your Google Colab and restart your session.\n",
            "You will be able to reuse this secret in all of your notebooks.\n",
            "Please note that authentication is recommended but still optional to access public models or datasets.\n",
            "  warnings.warn(\n"
          ]
        },
        {
          "output_type": "display_data",
          "data": {
            "text/plain": [
              "Fetching 5 files:   0%|          | 0/5 [00:00<?, ?it/s]"
            ],
            "application/vnd.jupyter.widget-view+json": {
              "version_major": 2,
              "version_minor": 0,
              "model_id": "f3063b3bfc7f4498a19e06d93adc7618"
            }
          },
          "metadata": {}
        },
        {
          "output_type": "display_data",
          "data": {
            "text/plain": [
              "tokenizer_config.json:   0%|          | 0.00/1.24k [00:00<?, ?B/s]"
            ],
            "application/vnd.jupyter.widget-view+json": {
              "version_major": 2,
              "version_minor": 0,
              "model_id": "74734975e103481fa0032e2663bd419a"
            }
          },
          "metadata": {}
        },
        {
          "output_type": "display_data",
          "data": {
            "text/plain": [
              "tokenizer.json:   0%|          | 0.00/711k [00:00<?, ?B/s]"
            ],
            "application/vnd.jupyter.widget-view+json": {
              "version_major": 2,
              "version_minor": 0,
              "model_id": "7b82a8144cae462ea2f7f43dba9b0708"
            }
          },
          "metadata": {}
        },
        {
          "output_type": "display_data",
          "data": {
            "text/plain": [
              "config.json:   0%|          | 0.00/740 [00:00<?, ?B/s]"
            ],
            "application/vnd.jupyter.widget-view+json": {
              "version_major": 2,
              "version_minor": 0,
              "model_id": "e356d430628f46b98072fd71df518154"
            }
          },
          "metadata": {}
        },
        {
          "output_type": "display_data",
          "data": {
            "text/plain": [
              "special_tokens_map.json:   0%|          | 0.00/695 [00:00<?, ?B/s]"
            ],
            "application/vnd.jupyter.widget-view+json": {
              "version_major": 2,
              "version_minor": 0,
              "model_id": "9482ad564a4e481c810e9ea7a88f4f68"
            }
          },
          "metadata": {}
        },
        {
          "output_type": "display_data",
          "data": {
            "text/plain": [
              "model_optimized.onnx:   0%|          | 0.00/218M [00:00<?, ?B/s]"
            ],
            "application/vnd.jupyter.widget-view+json": {
              "version_major": 2,
              "version_minor": 0,
              "model_id": "76c95f9df2ed47aea133efc4bbe4da65"
            }
          },
          "metadata": {}
        }
      ]
    },
    {
      "cell_type": "code",
      "source": [
        "%%time\n",
        "query = \"Can a local resident who is permanently settled get citizenship?\"\n",
        "similar_docs = qdrant.similarity_search_with_score(query)"
      ],
      "metadata": {
        "colab": {
          "base_uri": "https://localhost:8080/"
        },
        "id": "gClUiFJSG9O9",
        "outputId": "f30e9e64-2cea-4b61-9fbe-cd0079e202d9"
      },
      "execution_count": null,
      "outputs": [
        {
          "output_type": "stream",
          "name": "stdout",
          "text": [
            "CPU times: user 185 ms, sys: 860 µs, total: 186 ms\n",
            "Wall time: 231 ms\n"
          ]
        }
      ]
    },
    {
      "cell_type": "code",
      "source": [
        "for doc, score in similar_docs:\n",
        "    print(f\"text: {doc.page_content[:256]}\\n\")\n",
        "    print(f\"score: {score}\")\n",
        "    print(\"-\" * 80)\n",
        "    print()"
      ],
      "metadata": {
        "colab": {
          "base_uri": "https://localhost:8080/"
        },
        "id": "wkTHqK2mJ86U",
        "outputId": "3b637a58-e146-4d68-dac1-de95018142e6"
      },
      "execution_count": null,
      "outputs": [
        {
          "output_type": "stream",
          "name": "stdout",
          "text": [
            "text: Every minor who does not have a paternal and maternal address found within the borders of Nepal shall be considered a citizen of Nepal as a descendant until his father or mother is found.\n",
            "\n",
            "4. Acquisition of Nepalese citizenship by birth:\n",
            "\n",
            "1. A person who w\n",
            "\n",
            "score: 0.6737632409694327\n",
            "--------------------------------------------------------------------------------\n",
            "\n",
            "text: (5) In accordance with sub-section (4), the fact that the applicant was born in Nepal and has a permanent residence must be clearly mentioned during the on-site survey.\n",
            "\n",
            "(6) During the investigation according to sub-section (3) or (4), if any applicant is \n",
            "\n",
            "score: 0.6344049289113103\n",
            "--------------------------------------------------------------------------------\n",
            "\n",
            "text: (c) Non-citizenship of any foreign country on the basis of father's citizenship.\n",
            "\n",
            "(4) Among the foreign nationals who have fulfilled the following conditions and conditions, those who are deemed by the Government of Nepal to have made or can make a special\n",
            "\n",
            "score: 0.6322290288385242\n",
            "--------------------------------------------------------------------------------\n",
            "\n",
            "text: 8. To apply for obtaining a certificate of citizenship:\n",
            "\n",
            "(1) According to section 3, a person who has completed sixteen years of age and wishes to obtain a certificate of Nepali citizenship as a descendant must submit an application to the designated autho\n",
            "\n",
            "score: 0.6153017784711068\n",
            "--------------------------------------------------------------------------------\n",
            "\n"
          ]
        }
      ]
    },
    {
      "cell_type": "code",
      "source": [
        "# Time measurement ko lagi cell magic command\n",
        "%%time\n",
        "\n",
        "# Qdrant ko retriever banaune with search parameters\n",
        "retriever = qdrant.as_retriever(search_kwargs={\"k\": 5})  # Top 5 similar documents retrieve garne\n",
        "\n",
        "# Query ko adhar ma documents retrieve garne\n",
        "retrieved_docs = retriever.invoke(query)"
      ],
      "metadata": {
        "colab": {
          "base_uri": "https://localhost:8080/"
        },
        "id": "2QSq2Ww-Kfqw",
        "outputId": "a1725b6d-075e-47b1-9ca1-0db833d1a6b1"
      },
      "execution_count": null,
      "outputs": [
        {
          "output_type": "stream",
          "name": "stdout",
          "text": [
            "CPU times: user 204 ms, sys: 49.1 ms, total: 253 ms\n",
            "Wall time: 252 ms\n"
          ]
        }
      ]
    },
    {
      "cell_type": "code",
      "source": [
        "compressor = FlashrankRerank(model=\"ms-marco-MiniLM-L-12-v2\")\n",
        "compression_retriever = ContextualCompressionRetriever(\n",
        "    base_compressor=compressor, base_retriever=retriever\n",
        ")"
      ],
      "metadata": {
        "id": "4xOKcBOfJ94w",
        "colab": {
          "base_uri": "https://localhost:8080/"
        },
        "outputId": "99052a6f-6e27-4693-940b-81eb7a363a85"
      },
      "execution_count": null,
      "outputs": [
        {
          "output_type": "stream",
          "name": "stdout",
          "text": [
            "Downloading ms-marco-MiniLM-L-12-v2...\n"
          ]
        },
        {
          "output_type": "stream",
          "name": "stderr",
          "text": [
            "ms-marco-MiniLM-L-12-v2.zip: 100%|██████████| 21.6M/21.6M [00:00<00:00, 38.2MiB/s]\n"
          ]
        }
      ]
    },
    {
      "cell_type": "code",
      "source": [
        "\n",
        "llm = ChatGroq(temperature=0, model_name=\"llama3-70b-8192\")"
      ],
      "metadata": {
        "id": "xbZ-39QvKB-q"
      },
      "execution_count": null,
      "outputs": []
    },
    {
      "cell_type": "code",
      "source": [
        "prompt_template = \"\"\"\n",
        "Use the following pieces of information to answer the user's question.\n",
        "If you don't know the answer, just say that you don't know, don't try to make up an answer.\n",
        "\n",
        "Context: {context}\n",
        "Question: {question}\n",
        "\n",
        "Answer the question with the short reason and dont provide additional helpful information, and also dont give source documents\n",
        "just give short answer.\n",
        "\n",
        "Responses should be properly formatted to be easily read.\n",
        "\"\"\"\n",
        "\n",
        "# PromptTemplate ko instance create gareko cha\n",
        "prompt = PromptTemplate(\n",
        "    template=prompt_template,  # Template ko string\n",
        "    input_variables=[\"context\", \"question\"]  # Input variables specify garne\n",
        ")\n"
      ],
      "metadata": {
        "id": "vy_awS_OKtDU"
      },
      "execution_count": null,
      "outputs": []
    },
    {
      "cell_type": "code",
      "source": [
        "\n",
        "qa = RetrievalQA.from_chain_type(\n",
        "    llm=llm,\n",
        "    chain_type=\"stuff\",\n",
        "    retriever=compression_retriever,\n",
        "    return_source_documents=True,\n",
        "    chain_type_kwargs={\"prompt\": prompt, \"verbose\": True},\n",
        ")"
      ],
      "metadata": {
        "id": "bJ0Ci9YQK4M9"
      },
      "execution_count": null,
      "outputs": []
    },
    {
      "cell_type": "code",
      "source": [
        "# Time measurement ko lagi cell magic command\n",
        "%%time\n",
        "\n",
        "# User ko prashna ko uttar paune process run gareko cha\n",
        "response = qa.invoke(\"To give Nepali citizenship certificate to citizens based on what documents?\")"
      ],
      "metadata": {
        "colab": {
          "base_uri": "https://localhost:8080/"
        },
        "id": "yu3rPKCgK9Qk",
        "outputId": "56ad7963-ebe3-405a-c782-2ec7e7817c25"
      },
      "execution_count": null,
      "outputs": [
        {
          "output_type": "stream",
          "name": "stdout",
          "text": [
            "Running pairwise ranking..\n",
            "\n",
            "\n",
            "\u001b[1m> Entering new StuffDocumentsChain chain...\u001b[0m\n",
            "\n",
            "\n",
            "\u001b[1m> Entering new LLMChain chain...\u001b[0m\n",
            "Prompt after formatting:\n",
            "\u001b[32;1m\u001b[1;3m\n",
            "Use the following pieces of information to answer the user's question.\n",
            "If you don't know the answer, just say that you don't know, don't try to make up an answer.\n",
            "\n",
            "Context: 8. To apply for obtaining a certificate of citizenship:\n",
            "\n",
            "(1) According to section 3, a person who has completed sixteen years of age and wishes to obtain a certificate of Nepali citizenship as a descendant must submit an application to the designated authority with copies of the following documents attached:\n",
            "\n",
            "(a) Certificate of Nepalese citizenship of father or mother or relatives within three generations of their descent,\n",
            "\n",
            "However, this provision will not be applicable in case of Nepali citizen women who are married to foreign nationals.\n",
            "\n",
            "(B) Recommendation made by the village or municipality to reveal the place of birth and relationship.\n",
            "\n",
            "Amended by Act to amend certain Nepal Acts, 2072.\n",
            "\n",
            "(2) According to section 4, a person who has completed sixteen years of age and wishes to obtain a certificate of Nepali citizenship based on birth must submit an application to the designated authority with copies of the following documents attached:\n",
            "\n",
            "(a) A recommendation made by the concerned village or municipality to disclose the fact that he was born in Nepal and has been permanently residing in Nepal,\n",
            "\n",
            "Amended by Act to amend certain Nepal Acts, 2072.\n",
            "\n",
            "(b) Land owner registration proof of his or his family's name or certificate of Mohiani rights or proof of household ownership or proof that his or his father's or mother's name is included in the voter's list prepared by the Election Commission.\n",
            "\n",
            "(3) After receiving the application according to sub-section (1) or (2), the designated officer will investigate based on the evidence received and give him a certificate of Nepali citizenship.\n",
            "\n",
            "(4) In the event that a person is unable to submit the proofs as per sub-section (1) or (2) with the application, the designated officer can issue a certificate of Nepali citizenship based on the identification of at least three persons residing in the same ward who know the applicant and who have obtained certificates of Nepali citizenship.\n",
            "\n",
            "12 Cancellation of citizenship certificate:\n",
            "\n",
            "If it is proved that a Nepali citizen has obtained a certificate of Nepali citizenship by giving false information, the designated authority will cancel such citizenship certificate.\n",
            "\n",
            "13. Do not take dual citizenship certificate:\n",
            "\n",
            "No one should take more than one citizenship certificate. But on the basis of migration, if a person wishes, it will not be a hindrance to issue another citizenship certificate from the concerned office.\n",
            "\n",
            "14. Removal from Nepali citizenship:\n",
            "\n",
            "If it is proved that a foreigner has obtained a certificate of Nepali citizenship by giving false information or a statement that he is a Nepali citizen, the Government of Nepal will cancel his Nepali citizenship certificate and order to remove him from Nepali citizenship.\n",
            "\n",
            "According to this clause, an appeal may be filed in the concerned High Court within thirty-five days against the order issued by the Government of Nepal to remove a person from the citizenship of Nepal.\n",
            "\n",
            "Amended by Act to amend certain Nepal Acts, 2072.\n",
            "\n",
            "Act to amend some Nepal Acts, 2064.\n",
            "\n",
            "15. Keeping records of citizenship certificates:\n",
            "\n",
            "The arrangements related to keeping records of Nepali citizenship certificates will be as prescribed.\n",
            "\n",
            "16. No loss of rights, duties and responsibilities:\n",
            "\n",
            "If someone's Nepali citizenship is terminated due to any reason, his rights, duties and obligations in relation to any act done by him while he was a citizen of Nepal shall not be considered to be lost due to the termination of citizenship.\n",
            "\n",
            "17. Correction of details:\n",
            "\n",
            "If a person wishes to correct the details in his/her Nepali citizenship certificate, if the surname or age mentioned in the certificate of educational qualification has changed, or if there is a minor error in the citizenship certificate, he/she should submit an application to the designated authority with the necessary evidence.\n",
            "\n",
            "(5) In accordance with sub-section (4), the fact that the applicant was born in Nepal and has a permanent residence must be clearly mentioned during the on-site survey.\n",
            "\n",
            "(6) During the investigation according to sub-section (3) or (4), if any applicant is found not eligible to get a certificate of Nepali citizenship, he shall be informed about the matter within the prescribed period after making a decision on the matter.\n",
            "\n",
            "9. Right to issue certificate of citizenship:\n",
            "\n",
            "The designated authority will have the right to issue a certificate of Nepalese citizenship based on descent, birth or recognition.\n",
            "\n",
            "10. Non-retention of Nepali citizenship:\n",
            "\n",
            "(1) After a citizen of Nepal voluntarily acquires the citizenship of a foreign country, his Nepali citizenship shall not be retained.\n",
            "\n",
            "(2) After a Nepalese citizen gives notice to renounce Nepalese citizenship as prescribed, the designated officer shall register such notice and from the date of such registration, his Nepalese citizenship shall not continue.\n",
            "\n",
            "(3) If a person is removed from Nepali citizenship in accordance with section 14, the Nepali citizenship of such person shall not continue from the date of such removal.\n",
            "\n",
            "(4) If a person has the citizenship of Nepal and a foreign country at the same time, such a person should choose the citizenship of one of the countries within two years of attaining the age of sixteen. In the case of not choosing such citizenship, his Nepali citizenship will not be maintained after the expiry of that period.\n",
            "\n",
            "(5) If a question arises as to whether a citizen of Nepal has acquired the citizenship of a foreign country or not, the designated authority shall make a decision according to the prevailing law.\n",
            "\n",
            "11. Renewal of Nepalese citizenship:\n",
            "\n",
            "If a Nepali citizen, after acquiring the citizenship of a foreign country, returns to Nepal and gives the certificate of renouncing the citizenship of the foreign country to the designated authority, his Nepali citizenship will be restored from the date of registration of such certificate.\n",
            "Question: To give Nepali citizenship certificate to citizens based on what documents?\n",
            "\n",
            "Answer the question with the short reason and dont provide additional helpful information, and also dont give source documents\n",
            "just give short answer.\n",
            "\n",
            "Responses should be properly formatted to be easily read.\n",
            "\u001b[0m\n",
            "\n",
            "\u001b[1m> Finished chain.\u001b[0m\n",
            "\n",
            "\u001b[1m> Finished chain.\u001b[0m\n",
            "CPU times: user 2.75 s, sys: 5.5 ms, total: 2.76 s\n",
            "Wall time: 3.42 s\n"
          ]
        }
      ]
    },
    {
      "cell_type": "code",
      "source": [
        "qa = RetrievalQA.from_chain_type(\n",
        "    llm=llm,\n",
        "    chain_type=\"stuff\",\n",
        "    retriever=compression_retriever,\n",
        "    return_source_documents=True,\n",
        "    chain_type_kwargs={\"prompt\": prompt, \"verbose\": False},\n",
        ")"
      ],
      "metadata": {
        "id": "Ojc5LuHlLFKb"
      },
      "execution_count": null,
      "outputs": []
    },
    {
      "cell_type": "code",
      "source": [
        "%%time\n",
        "response = qa.invoke(\"i want to make citizenship?\")"
      ],
      "metadata": {
        "colab": {
          "base_uri": "https://localhost:8080/"
        },
        "id": "-SIVMg74LOdF",
        "outputId": "5dae32f8-e710-44b3-b6ff-32e78d8efc55"
      },
      "execution_count": null,
      "outputs": [
        {
          "output_type": "stream",
          "name": "stdout",
          "text": [
            "Running pairwise ranking..\n",
            "CPU times: user 1.91 s, sys: 6.76 ms, total: 1.91 s\n",
            "Wall time: 2.47 s\n"
          ]
        }
      ]
    },
    {
      "cell_type": "code",
      "source": [
        "print_response(response)"
      ],
      "metadata": {
        "colab": {
          "base_uri": "https://localhost:8080/"
        },
        "id": "PX6yTIJ8LSIc",
        "outputId": "63da2641-df10-41de-ed87-58d15fece75a"
      },
      "execution_count": null,
      "outputs": [
        {
          "output_type": "stream",
          "name": "stdout",
          "text": [
            "To apply for obtaining a certificate of citizenship, you need to:\n",
            "\n",
            "* Submit an application to the designated authority with required documents attached.\n",
            "* If applying as a descendant, attach a certificate of Nepalese citizenship of father or mother or\n",
            "relatives within three generations of their descent, and a recommendation made by the village or\n",
            "municipality to reveal the place of birth and relationship.\n",
            "* If applying based on birth, attach a recommendation made by the concerned village or municipality\n",
            "to disclose the fact that you were born in Nepal and have been permanently residing in Nepal, and\n",
            "proof of land ownership or voter's list registration.\n"
          ]
        }
      ]
    },
    {
      "cell_type": "code",
      "source": [
        "def qry(user_input):\n",
        "  response = qa.invoke(user_input)\n",
        "  return response"
      ],
      "metadata": {
        "id": "W49RYPzjLS0x"
      },
      "execution_count": null,
      "outputs": []
    },
    {
      "cell_type": "code",
      "source": [
        "qry(\"at what age will i get citizenship?\")\n"
      ],
      "metadata": {
        "colab": {
          "base_uri": "https://localhost:8080/"
        },
        "id": "pB3oLQIZLhXE",
        "outputId": "6a35b532-fa11-474a-ecca-1cfb57b8b694"
      },
      "execution_count": null,
      "outputs": [
        {
          "output_type": "stream",
          "name": "stdout",
          "text": [
            "Running pairwise ranking..\n"
          ]
        },
        {
          "output_type": "execute_result",
          "data": {
            "text/plain": [
              "{'query': 'at what age will i get citizenship?',\n",
              " 'result': 'You will get citizenship at the age of 16.',\n",
              " 'source_documents': [Document(page_content=\"8. To apply for obtaining a certificate of citizenship:\\n\\n(1) According to section 3, a person who has completed sixteen years of age and wishes to obtain a certificate of Nepali citizenship as a descendant must submit an application to the designated authority with copies of the following documents attached:\\n\\n(a) Certificate of Nepalese citizenship of father or mother or relatives within three generations of their descent,\\n\\nHowever, this provision will not be applicable in case of Nepali citizen women who are married to foreign nationals.\\n\\n(B) Recommendation made by the village or municipality to reveal the place of birth and relationship.\\n\\n\\uf0dc\\uf0dcAmended by Act to amend certain Nepal Acts, 2072.\\n\\n(2) According to section 4, a person who has completed sixteen years of age and wishes to obtain a certificate of Nepali citizenship based on birth must submit an application to the designated authority with copies of the following documents attached:\\n\\n(a) A recommendation made by the concerned village or municipality to disclose the fact that he was born in Nepal and has been permanently residing in Nepal,\\n\\n\\uf0dc\\uf0dcAmended by Act to amend certain Nepal Acts, 2072.\\n\\n(b) Land owner registration proof of his or his family's name or certificate of Mohiani rights or proof of household ownership or proof that his or his father's or mother's name is included in the voter's list prepared by the Election Commission.\\n\\n(3) After receiving the application according to sub-section (1) or (2), the designated officer will investigate based on the evidence received and give him a certificate of Nepali citizenship.\\n\\n(4) In the event that a person is unable to submit the proofs as per sub-section (1) or (2) with the application, the designated officer can issue a certificate of Nepali citizenship based on the identification of at least three persons residing in the same ward who know the applicant and who have obtained certificates of Nepali citizenship.\", metadata={'source': 'data/parsed_document.md', '_id': '23dfbddd65174a84b56eda3edb305713', '_collection_name': 'document_embeddings', 'relevance_score': 0.9505507349967957}),\n",
              "  Document(page_content='(5) In accordance with sub-section (4), the fact that the applicant was born in Nepal and has a permanent residence must be clearly mentioned during the on-site survey.\\n\\n(6) During the investigation according to sub-section (3) or (4), if any applicant is found not eligible to get a certificate of Nepali citizenship, he shall be informed about the matter within the prescribed period after making a decision on the matter.\\n\\n9. Right to issue certificate of citizenship:\\n\\nThe designated authority will have the right to issue a certificate of Nepalese citizenship based on descent, birth or recognition.\\n\\n10. Non-retention of Nepali citizenship:\\n\\n(1) After a citizen of Nepal voluntarily acquires the citizenship of a foreign country, his Nepali citizenship shall not be retained.\\n\\n(2) After a Nepalese citizen gives notice to renounce Nepalese citizenship as prescribed, the designated officer shall register such notice and from the date of such registration, his Nepalese citizenship shall not continue.\\n\\n(3) If a person is removed from Nepali citizenship in accordance with section 14, the Nepali citizenship of such person shall not continue from the date of such removal.\\n\\n(4) If a person has the citizenship of Nepal and a foreign country at the same time, such a person should choose the citizenship of one of the countries within two years of attaining the age of sixteen. In the case of not choosing such citizenship, his Nepali citizenship will not be maintained after the expiry of that period.\\n\\n(5) If a question arises as to whether a citizen of Nepal has acquired the citizenship of a foreign country or not, the designated authority shall make a decision according to the prevailing law.\\n\\n11. Renewal of Nepalese citizenship:\\n\\nIf a Nepali citizen, after acquiring the citizenship of a foreign country, returns to Nepal and gives the certificate of renouncing the citizenship of the foreign country to the designated authority, his Nepali citizenship will be restored from the date of registration of such certificate.', metadata={'source': 'data/parsed_document.md', '_id': '09968a7072294810b15fd9d53d13f438', '_collection_name': 'document_embeddings', 'relevance_score': 0.34592631459236145}),\n",
              "  Document(page_content=\"Every minor who does not have a paternal and maternal address found within the borders of Nepal shall be considered a citizen of Nepal as a descendant until his father or mother is found.\\n\\n4. Acquisition of Nepalese citizenship by birth:\\n\\n1. A person who was born within the borders of Nepal until the end of Chaitra year 2046 and has been permanently residing in Nepal shall be a citizen of Nepal by birth.\\n\\n(2) According to sub-section (1), a person who wishes to obtain a certificate of citizenship shall submit an application before the election of the Constituent Assembly and the provision of the certificate of citizenship shall be as prescribed.\\n\\n(3) A person who is unable to submit an application within the time period specified in sub-section (2) due to special reasons may submit an application as prescribed within two years from the date of commencement of this Act.\\n\\n5. Acquiring recognized Nepali citizenship:\\n\\n(1) If a foreign woman who is married to a Nepali citizen wants to obtain Nepali citizenship, she must submit an application to the designated authority in the prescribed format. When making such an application, you will also have to submit proof of your marital relationship with a Nepalese citizen and the fact that you have taken action to renounce your foreign citizenship.\\n\\n(2) In the case of children born to a Nepali citizen woman married to a foreign citizen, if he was born in Nepal and resided in Nepal permanently, and based on the citizenship of his father, he has not acquired the citizenship of a foreign country, then he can be granted recognized citizenship as prescribed.\\n\\n(3) In accordance with sub-section (2), a person who wishes to obtain recognized citizenship shall submit an application to the designated authority by attaching the following documents:\\n\\n(a) Copy of mother's certificate of Nepalese citizenship,\\n\\n(b) Recommendation of the village or municipality related to the opening of the case of birth and permanent residence in Nepal,\", metadata={'source': 'data/parsed_document.md', '_id': '9fd476391465495d9cf999bcfe6c29c0', '_collection_name': 'document_embeddings', 'relevance_score': 0.025086691603064537})]}"
            ]
          },
          "metadata": {},
          "execution_count": 52
        }
      ]
    },
    {
      "cell_type": "code",
      "source": [
        "qry('if my father is nepali and mother is non nepali, can i get citizenship?')\n"
      ],
      "metadata": {
        "colab": {
          "base_uri": "https://localhost:8080/"
        },
        "id": "aZM1ufPyLp96",
        "outputId": "1c0a5522-2e82-4f2e-928d-344503b460ee"
      },
      "execution_count": null,
      "outputs": [
        {
          "output_type": "stream",
          "name": "stdout",
          "text": [
            "Running pairwise ranking..\n"
          ]
        },
        {
          "output_type": "execute_result",
          "data": {
            "text/plain": [
              "{'query': 'if my father is nepali and mother is non nepali, can i get citizenship?',\n",
              " 'result': '**No**, because the law requires both parents to be Nepali citizens to acquire citizenship by descent.',\n",
              " 'source_documents': [Document(page_content='In Section 3 of the Nepal Citizenship Act, 2063 (hereinafter referred to as the “Original Act”),-\\n\\n(1) In sub-section (3), instead of the words \"within the borders of Nepal\", the words \"within Nepal\" have been kept, instead of the words \"paternity and motherhood\" in the sub-section, the words \"paternity and motherhood\" have been kept.\\n\\n(2) Sub-section (3) of the following sub-sections (4), (5) and (6) have been added:-\\n\\n(4) Samvat 2072, the child of a citizen who was born before Ashoj 3, if both his father and mother are citizens of Nepal, he will get Nepalese citizenship on the basis of descent after reaching the age of sixteen.\\n\\n(5) A person who was born in Nepal from a mother who is a citizen of Nepal and settled in Nepal and whose father cannot be identified will get Nepalese citizenship on the basis of descendants.\\n\\n(6) According to sub-section (5), if the father of a person who has received citizenship is a foreigner, such person\\'s citizenship on the basis of descent will not be retained and if the child declares that he did not receive the citizenship of the foreign country on the basis of his father\\'s citizenship, the child\\'s citizenship will be converted into a recognized citizenship.\\n\\n27. Amendment to Section 8 of the original Act:\\n\\nSection 8 of the original Act,-\\n\\n(1) After clause (a) of sub-section (1), the following clause (a1) shall be inserted:-\\n\\n\"(A1) Self-declaration of birth of a person born in Nepal from a mother who is a citizen of Nepal and settled in Nepal and the identity of the father has not been ascertained. At the time of filing the petition, the petitioner must attach a self-declaration of death along with the evidence that the mother of such a person has died or moved to another address.\\n\\n(2) After sub-section (1) the following sub-section (1A) shall be inserted:-', metadata={'source': 'data/parsed_document.md', '_id': '9b9695dcedfd405e892536cfbd6aa806', '_collection_name': 'document_embeddings', 'relevance_score': 0.9928288459777832}),\n",
              "  Document(page_content=\"Every minor who does not have a paternal and maternal address found within the borders of Nepal shall be considered a citizen of Nepal as a descendant until his father or mother is found.\\n\\n4. Acquisition of Nepalese citizenship by birth:\\n\\n1. A person who was born within the borders of Nepal until the end of Chaitra year 2046 and has been permanently residing in Nepal shall be a citizen of Nepal by birth.\\n\\n(2) According to sub-section (1), a person who wishes to obtain a certificate of citizenship shall submit an application before the election of the Constituent Assembly and the provision of the certificate of citizenship shall be as prescribed.\\n\\n(3) A person who is unable to submit an application within the time period specified in sub-section (2) due to special reasons may submit an application as prescribed within two years from the date of commencement of this Act.\\n\\n5. Acquiring recognized Nepali citizenship:\\n\\n(1) If a foreign woman who is married to a Nepali citizen wants to obtain Nepali citizenship, she must submit an application to the designated authority in the prescribed format. When making such an application, you will also have to submit proof of your marital relationship with a Nepalese citizen and the fact that you have taken action to renounce your foreign citizenship.\\n\\n(2) In the case of children born to a Nepali citizen woman married to a foreign citizen, if he was born in Nepal and resided in Nepal permanently, and based on the citizenship of his father, he has not acquired the citizenship of a foreign country, then he can be granted recognized citizenship as prescribed.\\n\\n(3) In accordance with sub-section (2), a person who wishes to obtain recognized citizenship shall submit an application to the designated authority by attaching the following documents:\\n\\n(a) Copy of mother's certificate of Nepalese citizenship,\\n\\n(b) Recommendation of the village or municipality related to the opening of the case of birth and permanent residence in Nepal,\", metadata={'source': 'data/parsed_document.md', '_id': '9fd476391465495d9cf999bcfe6c29c0', '_collection_name': 'document_embeddings', 'relevance_score': 0.991138219833374}),\n",
              "  Document(page_content=\"8. To apply for obtaining a certificate of citizenship:\\n\\n(1) According to section 3, a person who has completed sixteen years of age and wishes to obtain a certificate of Nepali citizenship as a descendant must submit an application to the designated authority with copies of the following documents attached:\\n\\n(a) Certificate of Nepalese citizenship of father or mother or relatives within three generations of their descent,\\n\\nHowever, this provision will not be applicable in case of Nepali citizen women who are married to foreign nationals.\\n\\n(B) Recommendation made by the village or municipality to reveal the place of birth and relationship.\\n\\n\\uf0dc\\uf0dcAmended by Act to amend certain Nepal Acts, 2072.\\n\\n(2) According to section 4, a person who has completed sixteen years of age and wishes to obtain a certificate of Nepali citizenship based on birth must submit an application to the designated authority with copies of the following documents attached:\\n\\n(a) A recommendation made by the concerned village or municipality to disclose the fact that he was born in Nepal and has been permanently residing in Nepal,\\n\\n\\uf0dc\\uf0dcAmended by Act to amend certain Nepal Acts, 2072.\\n\\n(b) Land owner registration proof of his or his family's name or certificate of Mohiani rights or proof of household ownership or proof that his or his father's or mother's name is included in the voter's list prepared by the Election Commission.\\n\\n(3) After receiving the application according to sub-section (1) or (2), the designated officer will investigate based on the evidence received and give him a certificate of Nepali citizenship.\\n\\n(4) In the event that a person is unable to submit the proofs as per sub-section (1) or (2) with the application, the designated officer can issue a certificate of Nepali citizenship based on the identification of at least three persons residing in the same ward who know the applicant and who have obtained certificates of Nepali citizenship.\", metadata={'source': 'data/parsed_document.md', '_id': '23dfbddd65174a84b56eda3edb305713', '_collection_name': 'document_embeddings', 'relevance_score': 0.9828820824623108})]}"
            ]
          },
          "metadata": {},
          "execution_count": 53
        }
      ]
    },
    {
      "cell_type": "code",
      "source": [
        "qry('my friend yogesh is from sunsari district. which office should he to to make citizenship?')\n"
      ],
      "metadata": {
        "colab": {
          "base_uri": "https://localhost:8080/"
        },
        "id": "D7NT2L-VMUvB",
        "outputId": "ae1560a9-330a-4d98-b928-c53659305429"
      },
      "execution_count": null,
      "outputs": [
        {
          "output_type": "stream",
          "name": "stdout",
          "text": [
            "Running pairwise ranking..\n"
          ]
        },
        {
          "output_type": "execute_result",
          "data": {
            "text/plain": [
              "{'query': 'my friend yogesh is from sunsari district. which office should he to to make citizenship?',\n",
              " 'result': 'Your friend Yogesh should go to the designated authority in Sunsari district to apply for obtaining a certificate of citizenship.',\n",
              " 'source_documents': [Document(page_content=\"12 Cancellation of citizenship certificate:\\n\\nIf it is proved that a Nepali citizen has obtained a certificate of Nepali citizenship by giving false information, the designated authority will cancel such citizenship certificate.\\n\\n13. Do not take dual citizenship certificate:\\n\\nNo one should take more than one citizenship certificate. But on the basis of migration, if a person wishes, it will not be a hindrance to issue another citizenship certificate from the concerned office.\\n\\n14. Removal from Nepali citizenship:\\n\\nIf it is proved that a foreigner has obtained a certificate of Nepali citizenship by giving false information or a statement that he is a Nepali citizen, the Government of Nepal will cancel his Nepali citizenship certificate and order to remove him from Nepali citizenship.\\n\\nAccording to this clause, an appeal may be filed in the concerned High Court within thirty-five days against the order issued by the Government of Nepal to remove a person from the citizenship of Nepal.\\n\\nAmended by Act to amend certain Nepal Acts, 2072.\\n\\nAct to amend some Nepal Acts, 2064.\\n\\n15. Keeping records of citizenship certificates:\\n\\nThe arrangements related to keeping records of Nepali citizenship certificates will be as prescribed.\\n\\n16. No loss of rights, duties and responsibilities:\\n\\nIf someone's Nepali citizenship is terminated due to any reason, his rights, duties and obligations in relation to any act done by him while he was a citizen of Nepal shall not be considered to be lost due to the termination of citizenship.\\n\\n17. Correction of details:\\n\\nIf a person wishes to correct the details in his/her Nepali citizenship certificate, if the surname or age mentioned in the certificate of educational qualification has changed, or if there is a minor error in the citizenship certificate, he/she should submit an application to the designated authority with the necessary evidence.\", metadata={'source': 'data/parsed_document.md', '_id': '8c1ceb6c04b04b2d90cefc833f4aecc6', '_collection_name': 'document_embeddings', 'relevance_score': 0.00034125990350730717}),\n",
              "  Document(page_content=\"8. To apply for obtaining a certificate of citizenship:\\n\\n(1) According to section 3, a person who has completed sixteen years of age and wishes to obtain a certificate of Nepali citizenship as a descendant must submit an application to the designated authority with copies of the following documents attached:\\n\\n(a) Certificate of Nepalese citizenship of father or mother or relatives within three generations of their descent,\\n\\nHowever, this provision will not be applicable in case of Nepali citizen women who are married to foreign nationals.\\n\\n(B) Recommendation made by the village or municipality to reveal the place of birth and relationship.\\n\\n\\uf0dc\\uf0dcAmended by Act to amend certain Nepal Acts, 2072.\\n\\n(2) According to section 4, a person who has completed sixteen years of age and wishes to obtain a certificate of Nepali citizenship based on birth must submit an application to the designated authority with copies of the following documents attached:\\n\\n(a) A recommendation made by the concerned village or municipality to disclose the fact that he was born in Nepal and has been permanently residing in Nepal,\\n\\n\\uf0dc\\uf0dcAmended by Act to amend certain Nepal Acts, 2072.\\n\\n(b) Land owner registration proof of his or his family's name or certificate of Mohiani rights or proof of household ownership or proof that his or his father's or mother's name is included in the voter's list prepared by the Election Commission.\\n\\n(3) After receiving the application according to sub-section (1) or (2), the designated officer will investigate based on the evidence received and give him a certificate of Nepali citizenship.\\n\\n(4) In the event that a person is unable to submit the proofs as per sub-section (1) or (2) with the application, the designated officer can issue a certificate of Nepali citizenship based on the identification of at least three persons residing in the same ward who know the applicant and who have obtained certificates of Nepali citizenship.\", metadata={'source': 'data/parsed_document.md', '_id': '23dfbddd65174a84b56eda3edb305713', '_collection_name': 'document_embeddings', 'relevance_score': 0.00017660412413533777}),\n",
              "  Document(page_content=\"(c) Non-citizenship of any foreign country on the basis of father's citizenship.\\n\\n(4) Among the foreign nationals who have fulfilled the following conditions and conditions, those who are deemed by the Government of Nepal to have made or can make a special contribution to science, philosophy, art, literature, world peace, human welfare or the industrial, economic or social progress of Nepal. The recognized Nepali citizenship can be granted as specified:\\n\\n(a) able to speak and write Nepali or any other language prevalent in Nepal,\\n\\n(b) residing in Nepal for any business,\\n\\n(c) renounced or declared to renounce the citizenship of another country,\\n\\n(d) resided in Nepal for at least fifteen years,\\n\\n(e) Being a citizen of a country where there is a legal system or practice of granting naturalized citizenship to Nepali citizens.\\n\\n(f) of good conduct,\\n\\n(G) Mentally healthy.\\n\\n(5) Notwithstanding anything written in sub-section (4), among the children of a person who has obtained recognized Nepali citizenship, the child born before he acquired that citizenship may receive recognized Nepali citizenship as prescribed.\\n\\n(6) According to this section, a person who has been recognized as a Nepali citizen will be given a certificate of Nepali citizenship in the prescribed format by taking an oath as per the schedule and from the date of receiving such a certificate, such person will be a recognized citizen of Nepal.\\n\\n6. Honorary citizenship of Nepal can be granted: Regardless of what is written in section 5, the government of Nepal can grant honorary citizenship of Nepal to a person of international fame.\\n\\n7. Citizenship at the time of annexation of territory: If any territory is acquired within Nepal by annexation, the person within that territory will be considered a citizen of Nepal from the date specified in the notification as prescribed by the Government of Nepal by publishing a notice in the Nepal Gazette under this Act.\\n\\n8. To apply for obtaining a certificate of citizenship:\", metadata={'source': 'data/parsed_document.md', '_id': 'a9128465ead9456189b558ba95701357', '_collection_name': 'document_embeddings', 'relevance_score': 0.00014364163507707417})]}"
            ]
          },
          "metadata": {},
          "execution_count": 54
        }
      ]
    },
    {
      "cell_type": "code",
      "source": [
        "qry('yogesh is a sn of nepali father,would he get citizenship by birth?')"
      ],
      "metadata": {
        "colab": {
          "base_uri": "https://localhost:8080/"
        },
        "id": "67NBcfC0SvRE",
        "outputId": "957dc1d4-e4e0-4f25-d6aa-fd965e4af05c"
      },
      "execution_count": null,
      "outputs": [
        {
          "output_type": "stream",
          "name": "stdout",
          "text": [
            "Running pairwise ranking..\n"
          ]
        },
        {
          "output_type": "execute_result",
          "data": {
            "text/plain": [
              "{'query': 'yogesh is a sn of nepali father,would he get citizenship by birth?',\n",
              " 'result': \"**Answer:** No\\n\\n**Reason:** The provision for citizenship by birth is only applicable to those born within the borders of Nepal until the end of Chaitra year 2046, and Yogesh's father's nationality is not specified as being born within Nepal during that time period.\",\n",
              " 'source_documents': [Document(page_content=\"Every minor who does not have a paternal and maternal address found within the borders of Nepal shall be considered a citizen of Nepal as a descendant until his father or mother is found.\\n\\n4. Acquisition of Nepalese citizenship by birth:\\n\\n1. A person who was born within the borders of Nepal until the end of Chaitra year 2046 and has been permanently residing in Nepal shall be a citizen of Nepal by birth.\\n\\n(2) According to sub-section (1), a person who wishes to obtain a certificate of citizenship shall submit an application before the election of the Constituent Assembly and the provision of the certificate of citizenship shall be as prescribed.\\n\\n(3) A person who is unable to submit an application within the time period specified in sub-section (2) due to special reasons may submit an application as prescribed within two years from the date of commencement of this Act.\\n\\n5. Acquiring recognized Nepali citizenship:\\n\\n(1) If a foreign woman who is married to a Nepali citizen wants to obtain Nepali citizenship, she must submit an application to the designated authority in the prescribed format. When making such an application, you will also have to submit proof of your marital relationship with a Nepalese citizen and the fact that you have taken action to renounce your foreign citizenship.\\n\\n(2) In the case of children born to a Nepali citizen woman married to a foreign citizen, if he was born in Nepal and resided in Nepal permanently, and based on the citizenship of his father, he has not acquired the citizenship of a foreign country, then he can be granted recognized citizenship as prescribed.\\n\\n(3) In accordance with sub-section (2), a person who wishes to obtain recognized citizenship shall submit an application to the designated authority by attaching the following documents:\\n\\n(a) Copy of mother's certificate of Nepalese citizenship,\\n\\n(b) Recommendation of the village or municipality related to the opening of the case of birth and permanent residence in Nepal,\", metadata={'source': 'data/parsed_document.md', '_id': '9fd476391465495d9cf999bcfe6c29c0', '_collection_name': 'document_embeddings', 'relevance_score': 0.9322243332862854}),\n",
              "  Document(page_content='In Section 3 of the Nepal Citizenship Act, 2063 (hereinafter referred to as the “Original Act”),-\\n\\n(1) In sub-section (3), instead of the words \"within the borders of Nepal\", the words \"within Nepal\" have been kept, instead of the words \"paternity and motherhood\" in the sub-section, the words \"paternity and motherhood\" have been kept.\\n\\n(2) Sub-section (3) of the following sub-sections (4), (5) and (6) have been added:-\\n\\n(4) Samvat 2072, the child of a citizen who was born before Ashoj 3, if both his father and mother are citizens of Nepal, he will get Nepalese citizenship on the basis of descent after reaching the age of sixteen.\\n\\n(5) A person who was born in Nepal from a mother who is a citizen of Nepal and settled in Nepal and whose father cannot be identified will get Nepalese citizenship on the basis of descendants.\\n\\n(6) According to sub-section (5), if the father of a person who has received citizenship is a foreigner, such person\\'s citizenship on the basis of descent will not be retained and if the child declares that he did not receive the citizenship of the foreign country on the basis of his father\\'s citizenship, the child\\'s citizenship will be converted into a recognized citizenship.\\n\\n27. Amendment to Section 8 of the original Act:\\n\\nSection 8 of the original Act,-\\n\\n(1) After clause (a) of sub-section (1), the following clause (a1) shall be inserted:-\\n\\n\"(A1) Self-declaration of birth of a person born in Nepal from a mother who is a citizen of Nepal and settled in Nepal and the identity of the father has not been ascertained. At the time of filing the petition, the petitioner must attach a self-declaration of death along with the evidence that the mother of such a person has died or moved to another address.\\n\\n(2) After sub-section (1) the following sub-section (1A) shall be inserted:-', metadata={'source': 'data/parsed_document.md', '_id': '9b9695dcedfd405e892536cfbd6aa806', '_collection_name': 'document_embeddings', 'relevance_score': 0.8902941942214966}),\n",
              "  Document(page_content=\"8. To apply for obtaining a certificate of citizenship:\\n\\n(1) According to section 3, a person who has completed sixteen years of age and wishes to obtain a certificate of Nepali citizenship as a descendant must submit an application to the designated authority with copies of the following documents attached:\\n\\n(a) Certificate of Nepalese citizenship of father or mother or relatives within three generations of their descent,\\n\\nHowever, this provision will not be applicable in case of Nepali citizen women who are married to foreign nationals.\\n\\n(B) Recommendation made by the village or municipality to reveal the place of birth and relationship.\\n\\n\\uf0dc\\uf0dcAmended by Act to amend certain Nepal Acts, 2072.\\n\\n(2) According to section 4, a person who has completed sixteen years of age and wishes to obtain a certificate of Nepali citizenship based on birth must submit an application to the designated authority with copies of the following documents attached:\\n\\n(a) A recommendation made by the concerned village or municipality to disclose the fact that he was born in Nepal and has been permanently residing in Nepal,\\n\\n\\uf0dc\\uf0dcAmended by Act to amend certain Nepal Acts, 2072.\\n\\n(b) Land owner registration proof of his or his family's name or certificate of Mohiani rights or proof of household ownership or proof that his or his father's or mother's name is included in the voter's list prepared by the Election Commission.\\n\\n(3) After receiving the application according to sub-section (1) or (2), the designated officer will investigate based on the evidence received and give him a certificate of Nepali citizenship.\\n\\n(4) In the event that a person is unable to submit the proofs as per sub-section (1) or (2) with the application, the designated officer can issue a certificate of Nepali citizenship based on the identification of at least three persons residing in the same ward who know the applicant and who have obtained certificates of Nepali citizenship.\", metadata={'source': 'data/parsed_document.md', '_id': '23dfbddd65174a84b56eda3edb305713', '_collection_name': 'document_embeddings', 'relevance_score': 0.6501263380050659})]}"
            ]
          },
          "metadata": {},
          "execution_count": 55
        }
      ]
    },
    {
      "cell_type": "code",
      "source": [],
      "metadata": {
        "id": "REwc-VtNTEES"
      },
      "execution_count": null,
      "outputs": []
    }
  ]
}