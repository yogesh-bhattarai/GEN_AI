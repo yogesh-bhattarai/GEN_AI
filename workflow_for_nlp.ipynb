{
  "nbformat": 4,
  "nbformat_minor": 0,
  "metadata": {
    "colab": {
      "provenance": [],
      "authorship_tag": "ABX9TyOWGh0gEyhhtss0X2ORyn55",
      "include_colab_link": true
    },
    "kernelspec": {
      "name": "python3",
      "display_name": "Python 3"
    },
    "language_info": {
      "name": "python"
    }
  },
  "cells": [
    {
      "cell_type": "markdown",
      "metadata": {
        "id": "view-in-github",
        "colab_type": "text"
      },
      "source": [
        "<a href=\"https://colab.research.google.com/github/yogesh-bhattarai/GEN_AI/blob/main/workflow_for_nlp.ipynb\" target=\"_parent\"><img src=\"https://colab.research.google.com/assets/colab-badge.svg\" alt=\"Open In Colab\"/></a>"
      ]
    },
    {
      "cell_type": "code",
      "execution_count": 2,
      "metadata": {
        "id": "wjpFvGkIc-Xk"
      },
      "outputs": [],
      "source": [
        "import math\n",
        "import time\n",
        "import logging\n",
        "from torch.utils.data import Dataset, DataLoader\n",
        "from torch.nn.utils.rnn import pad_sequence\n",
        "from tqdm import tqdm"
      ]
    },
    {
      "cell_type": "code",
      "source": [
        "class Multi30kDataset(Dataset):\n",
        "    def __init__(self, src_file, trg_file, src_transform=None, trg_transform=None):\n",
        "        self.src_data = self.load_data(src_file)\n",
        "        self.trg_data = self.load_data(trg_file)\n",
        "        self.src_transform = src_transform\n",
        "        self.trg_transform = trg_transform\n",
        "\n",
        "    def load_data(self, file_path):\n",
        "       with gzip.open(file_path, 'rt', encoding='utf-8') as f:\n",
        "          data = f.readlines()\n",
        "       return data\n",
        "\n",
        "    def __len__(self):\n",
        "      return len(self.src_data)\n",
        "\n",
        "    def __getitem__(self, idx):\n",
        "        src_sentence = self.src_data[idx].strip()\n",
        "        trg_sentence = self.trg_data[idx].strip()\n",
        "\n",
        "        if self.src_transform:\n",
        "            src_sentence = self.src_transform(src_sentence)\n",
        "        if self.trg_transform:\n",
        "            trg_sentence = self.trg_transform(trg_sentence)\n",
        "\n",
        "        return {\"src\": src_sentence, \"trg\": trg_sentence}\n"
      ],
      "metadata": {
        "id": "7d0-KtEs0xRA"
      },
      "execution_count": 6,
      "outputs": []
    },
    {
      "cell_type": "code",
      "source": [],
      "metadata": {
        "id": "uPVDZ89C0yQW"
      },
      "execution_count": null,
      "outputs": []
    }
  ]
}