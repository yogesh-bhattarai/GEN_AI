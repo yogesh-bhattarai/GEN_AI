{
  "nbformat": 4,
  "nbformat_minor": 0,
  "metadata": {
    "colab": {
      "provenance": [],
      "authorship_tag": "ABX9TyO70SO6zDOQ5MSg6WuZJVJi",
      "include_colab_link": true
    },
    "kernelspec": {
      "name": "python3",
      "display_name": "Python 3"
    },
    "language_info": {
      "name": "python"
    }
  },
  "cells": [
    {
      "cell_type": "markdown",
      "metadata": {
        "id": "view-in-github",
        "colab_type": "text"
      },
      "source": [
        "<a href=\"https://colab.research.google.com/github/yogesh-bhattarai/GEN_AI/blob/main/decorator.ipynb\" target=\"_parent\"><img src=\"https://colab.research.google.com/assets/colab-badge.svg\" alt=\"Open In Colab\"/></a>"
      ]
    },
    {
      "cell_type": "code",
      "execution_count": null,
      "metadata": {
        "id": "nChwbCd-p1Am"
      },
      "outputs": [],
      "source": [
        "def great(name: str)-> str:\n",
        "  return f\"{name}\""
      ]
    },
    {
      "cell_type": "code",
      "source": [
        "great(\"yogesh\")"
      ],
      "metadata": {
        "colab": {
          "base_uri": "https://localhost:8080/",
          "height": 36
        },
        "id": "GvxOoTnJqEgf",
        "outputId": "e09a2d34-3f3e-4feb-e2d4-da0a25fe4ae6"
      },
      "execution_count": null,
      "outputs": [
        {
          "output_type": "execute_result",
          "data": {
            "text/plain": [
              "'yogesh'"
            ],
            "application/vnd.google.colaboratory.intrinsic+json": {
              "type": "string"
            }
          },
          "metadata": {},
          "execution_count": 2
        }
      ]
    },
    {
      "cell_type": "code",
      "source": [
        "def another_function(func: str)-> str:\n",
        "  def wrapper(name:str)-> str:\n",
        "    print(\"hello\")\n",
        "    return func(name)\n",
        "  return wrapper"
      ],
      "metadata": {
        "id": "iJIm6nJBqJDP"
      },
      "execution_count": null,
      "outputs": []
    },
    {
      "cell_type": "code",
      "source": [
        "new= another_function(great)"
      ],
      "metadata": {
        "id": "_gy1j9-bqrDk"
      },
      "execution_count": null,
      "outputs": []
    },
    {
      "cell_type": "code",
      "source": [
        "print(new(\"puspanjali\"))"
      ],
      "metadata": {
        "colab": {
          "base_uri": "https://localhost:8080/"
        },
        "id": "j67PlCUtqx43",
        "outputId": "6c53ceef-7180-4eca-ff56-c28acbd4c97d"
      },
      "execution_count": null,
      "outputs": [
        {
          "output_type": "stream",
          "name": "stdout",
          "text": [
            "hello\n",
            "puspanjali\n"
          ]
        }
      ]
    },
    {
      "cell_type": "code",
      "source": [
        "def hello(func:str)-> str:\n",
        "  def wrapper(name)-> str:\n",
        "    print(\"this is my wrapper function\")\n",
        "    return func(name)\n",
        "  return wrapper"
      ],
      "metadata": {
        "id": "v-X8fJAyqzJX"
      },
      "execution_count": null,
      "outputs": []
    },
    {
      "cell_type": "code",
      "source": [
        "@hello\n",
        "def aayo(name)-> str:\n",
        "  return f\"hi {name}\""
      ],
      "metadata": {
        "id": "KvjNiT2rr5T_"
      },
      "execution_count": null,
      "outputs": []
    },
    {
      "cell_type": "code",
      "source": [
        "print(aayo(\"puspanjali\"))"
      ],
      "metadata": {
        "colab": {
          "base_uri": "https://localhost:8080/"
        },
        "id": "dZ3dZsBasG3R",
        "outputId": "73603704-1585-412e-8e63-2102489e1b9b"
      },
      "execution_count": null,
      "outputs": [
        {
          "output_type": "stream",
          "name": "stdout",
          "text": [
            "this is my wrapper function\n",
            "hi puspanjali\n"
          ]
        }
      ]
    },
    {
      "cell_type": "code",
      "source": [
        "import time"
      ],
      "metadata": {
        "id": "sePiEcQzsMgQ"
      },
      "execution_count": 1,
      "outputs": []
    },
    {
      "cell_type": "code",
      "source": [
        "def timer_decoder(func):\n",
        "  def wrapper(*args, **kwargs):\n",
        "    start_time= time.time()\n",
        "    result= func(*args,**kwargs)\n",
        "    end_time= time.time()\n",
        "    print(f\"time taken'{func.__name__}'took{end_time- start_time:}\")\n"
      ],
      "metadata": {
        "id": "IaKv5T_xnlYf"
      },
      "execution_count": null,
      "outputs": []
    }
  ]
}