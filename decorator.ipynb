{
  "nbformat": 4,
  "nbformat_minor": 0,
  "metadata": {
    "colab": {
      "provenance": [],
      "authorship_tag": "ABX9TyOwhvqJQ1mm9HvWLxzTUsCB",
      "include_colab_link": true
    },
    "kernelspec": {
      "name": "python3",
      "display_name": "Python 3"
    },
    "language_info": {
      "name": "python"
    }
  },
  "cells": [
    {
      "cell_type": "markdown",
      "metadata": {
        "id": "view-in-github",
        "colab_type": "text"
      },
      "source": [
        "<a href=\"https://colab.research.google.com/github/yogesh-bhattarai/GEN_AI/blob/main/decorator.ipynb\" target=\"_parent\"><img src=\"https://colab.research.google.com/assets/colab-badge.svg\" alt=\"Open In Colab\"/></a>"
      ]
    },
    {
      "cell_type": "code",
      "execution_count": 1,
      "metadata": {
        "id": "nChwbCd-p1Am"
      },
      "outputs": [],
      "source": [
        "def great(name: str)-> str:\n",
        "  return f\"{name}\""
      ]
    },
    {
      "cell_type": "code",
      "source": [
        "great(\"yogesh\")"
      ],
      "metadata": {
        "colab": {
          "base_uri": "https://localhost:8080/",
          "height": 36
        },
        "id": "GvxOoTnJqEgf",
        "outputId": "e09a2d34-3f3e-4feb-e2d4-da0a25fe4ae6"
      },
      "execution_count": 2,
      "outputs": [
        {
          "output_type": "execute_result",
          "data": {
            "text/plain": [
              "'yogesh'"
            ],
            "application/vnd.google.colaboratory.intrinsic+json": {
              "type": "string"
            }
          },
          "metadata": {},
          "execution_count": 2
        }
      ]
    },
    {
      "cell_type": "code",
      "source": [
        "def another_function(func: str)-> str:\n",
        "  def wrapper(name:str)-> str:\n",
        "    print(\"hello\")\n",
        "    return func(name)\n",
        "  return wrapper"
      ],
      "metadata": {
        "id": "iJIm6nJBqJDP"
      },
      "execution_count": 3,
      "outputs": []
    },
    {
      "cell_type": "code",
      "source": [
        "new= another_function(great)"
      ],
      "metadata": {
        "id": "_gy1j9-bqrDk"
      },
      "execution_count": 4,
      "outputs": []
    },
    {
      "cell_type": "code",
      "source": [
        "print(new(\"puspanjali\"))"
      ],
      "metadata": {
        "colab": {
          "base_uri": "https://localhost:8080/"
        },
        "id": "j67PlCUtqx43",
        "outputId": "6c53ceef-7180-4eca-ff56-c28acbd4c97d"
      },
      "execution_count": 6,
      "outputs": [
        {
          "output_type": "stream",
          "name": "stdout",
          "text": [
            "hello\n",
            "puspanjali\n"
          ]
        }
      ]
    },
    {
      "cell_type": "code",
      "source": [],
      "metadata": {
        "id": "v-X8fJAyqzJX"
      },
      "execution_count": null,
      "outputs": []
    }
  ]
}