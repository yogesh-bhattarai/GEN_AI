{
  "nbformat": 4,
  "nbformat_minor": 0,
  "metadata": {
    "colab": {
      "provenance": [],
      "authorship_tag": "ABX9TyOZ+WsLTsacPXoapJNBceNN",
      "include_colab_link": true
    },
    "kernelspec": {
      "name": "python3",
      "display_name": "Python 3"
    },
    "language_info": {
      "name": "python"
    }
  },
  "cells": [
    {
      "cell_type": "markdown",
      "metadata": {
        "id": "view-in-github",
        "colab_type": "text"
      },
      "source": [
        "<a href=\"https://colab.research.google.com/github/yogesh-bhattarai/GEN_AI/blob/main/decorator.ipynb\" target=\"_parent\"><img src=\"https://colab.research.google.com/assets/colab-badge.svg\" alt=\"Open In Colab\"/></a>"
      ]
    },
    {
      "cell_type": "code",
      "execution_count": null,
      "metadata": {
        "id": "nChwbCd-p1Am"
      },
      "outputs": [],
      "source": [
        "def great(name: str)-> str:\n",
        "  return f\"{name}\""
      ]
    },
    {
      "cell_type": "code",
      "source": [
        "great(\"yogesh\")"
      ],
      "metadata": {
        "colab": {
          "base_uri": "https://localhost:8080/",
          "height": 36
        },
        "id": "GvxOoTnJqEgf",
        "outputId": "e09a2d34-3f3e-4feb-e2d4-da0a25fe4ae6"
      },
      "execution_count": null,
      "outputs": [
        {
          "output_type": "execute_result",
          "data": {
            "text/plain": [
              "'yogesh'"
            ],
            "application/vnd.google.colaboratory.intrinsic+json": {
              "type": "string"
            }
          },
          "metadata": {},
          "execution_count": 2
        }
      ]
    },
    {
      "cell_type": "code",
      "source": [
        "def another_function(func: str)-> str:\n",
        "  def wrapper(name:str)-> str:\n",
        "    print(\"hello\")\n",
        "    return func(name)\n",
        "  return wrapper"
      ],
      "metadata": {
        "id": "iJIm6nJBqJDP"
      },
      "execution_count": null,
      "outputs": []
    },
    {
      "cell_type": "code",
      "source": [
        "new= another_function(great)"
      ],
      "metadata": {
        "id": "_gy1j9-bqrDk"
      },
      "execution_count": null,
      "outputs": []
    },
    {
      "cell_type": "code",
      "source": [
        "print(new(\"puspanjali\"))"
      ],
      "metadata": {
        "colab": {
          "base_uri": "https://localhost:8080/"
        },
        "id": "j67PlCUtqx43",
        "outputId": "6c53ceef-7180-4eca-ff56-c28acbd4c97d"
      },
      "execution_count": null,
      "outputs": [
        {
          "output_type": "stream",
          "name": "stdout",
          "text": [
            "hello\n",
            "puspanjali\n"
          ]
        }
      ]
    },
    {
      "cell_type": "code",
      "source": [
        "def hello(func:str)-> str:\n",
        "  def wrapper(name)-> str:\n",
        "    print(\"this is my wrapper function\")\n",
        "    return func(name)\n",
        "  return wrapper"
      ],
      "metadata": {
        "id": "v-X8fJAyqzJX"
      },
      "execution_count": null,
      "outputs": []
    },
    {
      "cell_type": "code",
      "source": [
        "@hello\n",
        "def aayo(name)-> str:\n",
        "  return f\"hi {name}\""
      ],
      "metadata": {
        "id": "KvjNiT2rr5T_"
      },
      "execution_count": null,
      "outputs": []
    },
    {
      "cell_type": "code",
      "source": [
        "print(aayo(\"puspanjali\"))"
      ],
      "metadata": {
        "colab": {
          "base_uri": "https://localhost:8080/"
        },
        "id": "dZ3dZsBasG3R",
        "outputId": "73603704-1585-412e-8e63-2102489e1b9b"
      },
      "execution_count": null,
      "outputs": [
        {
          "output_type": "stream",
          "name": "stdout",
          "text": [
            "this is my wrapper function\n",
            "hi puspanjali\n"
          ]
        }
      ]
    },
    {
      "cell_type": "code",
      "source": [
        "import time"
      ],
      "metadata": {
        "id": "sePiEcQzsMgQ"
      },
      "execution_count": null,
      "outputs": []
    },
    {
      "cell_type": "code",
      "source": [
        "def timer_decoder(func):\n",
        "  def wrapper(*args, **kwargs):\n",
        "    start_time= time.time()\n",
        "    result= func(*args,**kwargs)\n",
        "    end_time= time.time()\n",
        "    print(f\"time taken'{func.__name__}'took{end_time- start_time:.4f} second to run\")\n",
        "    return result\n",
        "  return wrapper\n"
      ],
      "metadata": {
        "id": "IaKv5T_xnlYf"
      },
      "execution_count": null,
      "outputs": []
    },
    {
      "cell_type": "code",
      "source": [
        "@timer_decoder\n",
        "def slow_function():\n",
        "  time.sleep(2)\n",
        "  print(\"finished\")"
      ],
      "metadata": {
        "id": "taprqUqvo1Zp"
      },
      "execution_count": null,
      "outputs": []
    },
    {
      "cell_type": "code",
      "source": [
        "slow_function()"
      ],
      "metadata": {
        "colab": {
          "base_uri": "https://localhost:8080/"
        },
        "id": "Bx7evUC7pMvi",
        "outputId": "2b7d10ff-60ab-41e7-9504-629a9752c807"
      },
      "execution_count": null,
      "outputs": [
        {
          "output_type": "stream",
          "name": "stdout",
          "text": [
            "finished\n",
            "time taken'slow_function'took2.0003 second to run\n"
          ]
        }
      ]
    },
    {
      "cell_type": "code",
      "source": [
        "def hello1()->str:\n",
        "  return(\"hello\")"
      ],
      "metadata": {
        "id": "sG-cqidkpPfD"
      },
      "execution_count": null,
      "outputs": []
    },
    {
      "cell_type": "code",
      "source": [
        "hello1()"
      ],
      "metadata": {
        "colab": {
          "base_uri": "https://localhost:8080/",
          "height": 36
        },
        "id": "QawV3-kZqJHI",
        "outputId": "5bac6052-63ae-4080-da75-807626670cb2"
      },
      "execution_count": null,
      "outputs": [
        {
          "output_type": "execute_result",
          "data": {
            "text/plain": [
              "'hello'"
            ],
            "application/vnd.google.colaboratory.intrinsic+json": {
              "type": "string"
            }
          },
          "metadata": {},
          "execution_count": 12
        }
      ]
    },
    {
      "cell_type": "code",
      "source": [
        "def decorator_function(original_function):\n",
        "  def wrapper_function():\n",
        "    print(\"this is an extra message\")\n",
        "    original_function()\n",
        "  return wrapper_function"
      ],
      "metadata": {
        "id": "fCn3O-p5qMV7"
      },
      "execution_count": null,
      "outputs": []
    },
    {
      "cell_type": "code",
      "source": [
        "@decorator_function\n",
        "def hi():\n",
        "  print(\"hii\")"
      ],
      "metadata": {
        "id": "Xc3Xc1CTlFPq"
      },
      "execution_count": null,
      "outputs": []
    },
    {
      "cell_type": "code",
      "source": [
        "hi()"
      ],
      "metadata": {
        "colab": {
          "base_uri": "https://localhost:8080/"
        },
        "id": "eqfDxb1AlPBV",
        "outputId": "3123aa0d-9b22-401b-93e7-05ec017e5afe"
      },
      "execution_count": null,
      "outputs": [
        {
          "output_type": "stream",
          "name": "stdout",
          "text": [
            "this is an extra message\n",
            "hii\n"
          ]
        }
      ]
    },
    {
      "cell_type": "code",
      "source": [],
      "metadata": {
        "id": "xIaR7QhilRgL"
      },
      "execution_count": null,
      "outputs": []
    }
  ]
}