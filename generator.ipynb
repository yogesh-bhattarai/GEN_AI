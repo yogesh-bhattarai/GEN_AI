{
  "nbformat": 4,
  "nbformat_minor": 0,
  "metadata": {
    "colab": {
      "provenance": [],
      "authorship_tag": "ABX9TyPmKgz7fVaPZ15YxyXpQiqV",
      "include_colab_link": true
    },
    "kernelspec": {
      "name": "python3",
      "display_name": "Python 3"
    },
    "language_info": {
      "name": "python"
    }
  },
  "cells": [
    {
      "cell_type": "markdown",
      "metadata": {
        "id": "view-in-github",
        "colab_type": "text"
      },
      "source": [
        "<a href=\"https://colab.research.google.com/github/yogesh-bhattarai/GEN_AI/blob/main/generator.ipynb\" target=\"_parent\"><img src=\"https://colab.research.google.com/assets/colab-badge.svg\" alt=\"Open In Colab\"/></a>"
      ]
    },
    {
      "cell_type": "code",
      "execution_count": null,
      "metadata": {
        "id": "ZL9OVjZhydoR"
      },
      "outputs": [],
      "source": [
        "def hello()->list:\n",
        "  return [1,2,3]"
      ]
    },
    {
      "cell_type": "code",
      "source": [
        "hello()"
      ],
      "metadata": {
        "colab": {
          "base_uri": "https://localhost:8080/"
        },
        "id": "Mz0Z-W4rz2-O",
        "outputId": "eacd5351-ae0c-482e-9108-8f94fe44dcba"
      },
      "execution_count": null,
      "outputs": [
        {
          "output_type": "execute_result",
          "data": {
            "text/plain": [
              "[1, 2, 3]"
            ]
          },
          "metadata": {},
          "execution_count": 2
        }
      ]
    },
    {
      "cell_type": "code",
      "source": [
        "#using generator\n",
        "def generator_function():\n",
        "  yield \"a\"\n",
        "  yield \"b\"\n",
        "  yield \"c\""
      ],
      "metadata": {
        "id": "QbDpdhsxz4QI"
      },
      "execution_count": null,
      "outputs": []
    },
    {
      "cell_type": "code",
      "source": [
        "gen= generator_function()"
      ],
      "metadata": {
        "id": "jM7ph0EA0Z_z"
      },
      "execution_count": null,
      "outputs": []
    },
    {
      "cell_type": "code",
      "source": [
        "next(gen)"
      ],
      "metadata": {
        "colab": {
          "base_uri": "https://localhost:8080/",
          "height": 36
        },
        "id": "Y_qEvirM0bj0",
        "outputId": "d801f2f9-bd3a-433c-d0b7-15717f7c6cd4"
      },
      "execution_count": null,
      "outputs": [
        {
          "output_type": "execute_result",
          "data": {
            "text/plain": [
              "'a'"
            ],
            "application/vnd.google.colaboratory.intrinsic+json": {
              "type": "string"
            }
          },
          "metadata": {},
          "execution_count": 7
        }
      ]
    },
    {
      "cell_type": "code",
      "source": [
        "next(gen)"
      ],
      "metadata": {
        "colab": {
          "base_uri": "https://localhost:8080/",
          "height": 36
        },
        "id": "6Z8qcydD0jwx",
        "outputId": "246b08ec-45b9-476e-852e-09c2ca8ce7e2"
      },
      "execution_count": null,
      "outputs": [
        {
          "output_type": "execute_result",
          "data": {
            "text/plain": [
              "'b'"
            ],
            "application/vnd.google.colaboratory.intrinsic+json": {
              "type": "string"
            }
          },
          "metadata": {},
          "execution_count": 8
        }
      ]
    },
    {
      "cell_type": "code",
      "source": [
        "next(gen)"
      ],
      "metadata": {
        "colab": {
          "base_uri": "https://localhost:8080/",
          "height": 36
        },
        "id": "hZOAiuSG0nUj",
        "outputId": "86e3d934-c53a-4651-890d-e630a28ee2fb"
      },
      "execution_count": null,
      "outputs": [
        {
          "output_type": "execute_result",
          "data": {
            "text/plain": [
              "'c'"
            ],
            "application/vnd.google.colaboratory.intrinsic+json": {
              "type": "string"
            }
          },
          "metadata": {},
          "execution_count": 9
        }
      ]
    },
    {
      "cell_type": "code",
      "source": [
        "def simple_generator()->str:\n",
        "  print(\"hello\")\n",
        "  yield 1"
      ],
      "metadata": {
        "id": "89I6tPNV0oxJ"
      },
      "execution_count": null,
      "outputs": []
    },
    {
      "cell_type": "code",
      "source": [
        "hello= simple_generator()"
      ],
      "metadata": {
        "id": "Jk0EAL_w1OVy"
      },
      "execution_count": null,
      "outputs": []
    },
    {
      "cell_type": "code",
      "source": [
        "next(hello)"
      ],
      "metadata": {
        "colab": {
          "base_uri": "https://localhost:8080/"
        },
        "id": "xdZhkmym1P0Z",
        "outputId": "c0772501-f981-43c6-98ea-4df3d949fa0c"
      },
      "execution_count": null,
      "outputs": [
        {
          "output_type": "stream",
          "name": "stdout",
          "text": [
            "hello\n"
          ]
        },
        {
          "output_type": "execute_result",
          "data": {
            "text/plain": [
              "1"
            ]
          },
          "metadata": {},
          "execution_count": 13
        }
      ]
    },
    {
      "cell_type": "code",
      "source": [
        "import numpy as np\n",
        "import pandas as pd\n",
        "import matplotlib.pyplot as plt\n",
        "import seaborn as sns"
      ],
      "metadata": {
        "id": "f-2k3Z-j1VDB"
      },
      "execution_count": null,
      "outputs": []
    },
    {
      "cell_type": "code",
      "source": [
        "x= np.linspace(1,10,100)"
      ],
      "metadata": {
        "id": "5l2JNrwc2dYM"
      },
      "execution_count": null,
      "outputs": []
    },
    {
      "cell_type": "code",
      "source": [
        "x"
      ],
      "metadata": {
        "colab": {
          "base_uri": "https://localhost:8080/"
        },
        "id": "9682Qrt92kf2",
        "outputId": "60b9179b-34fd-46ec-bbff-cf59ec0fbc81"
      },
      "execution_count": null,
      "outputs": [
        {
          "output_type": "execute_result",
          "data": {
            "text/plain": [
              "array([ 1.        ,  1.09090909,  1.18181818,  1.27272727,  1.36363636,\n",
              "        1.45454545,  1.54545455,  1.63636364,  1.72727273,  1.81818182,\n",
              "        1.90909091,  2.        ,  2.09090909,  2.18181818,  2.27272727,\n",
              "        2.36363636,  2.45454545,  2.54545455,  2.63636364,  2.72727273,\n",
              "        2.81818182,  2.90909091,  3.        ,  3.09090909,  3.18181818,\n",
              "        3.27272727,  3.36363636,  3.45454545,  3.54545455,  3.63636364,\n",
              "        3.72727273,  3.81818182,  3.90909091,  4.        ,  4.09090909,\n",
              "        4.18181818,  4.27272727,  4.36363636,  4.45454545,  4.54545455,\n",
              "        4.63636364,  4.72727273,  4.81818182,  4.90909091,  5.        ,\n",
              "        5.09090909,  5.18181818,  5.27272727,  5.36363636,  5.45454545,\n",
              "        5.54545455,  5.63636364,  5.72727273,  5.81818182,  5.90909091,\n",
              "        6.        ,  6.09090909,  6.18181818,  6.27272727,  6.36363636,\n",
              "        6.45454545,  6.54545455,  6.63636364,  6.72727273,  6.81818182,\n",
              "        6.90909091,  7.        ,  7.09090909,  7.18181818,  7.27272727,\n",
              "        7.36363636,  7.45454545,  7.54545455,  7.63636364,  7.72727273,\n",
              "        7.81818182,  7.90909091,  8.        ,  8.09090909,  8.18181818,\n",
              "        8.27272727,  8.36363636,  8.45454545,  8.54545455,  8.63636364,\n",
              "        8.72727273,  8.81818182,  8.90909091,  9.        ,  9.09090909,\n",
              "        9.18181818,  9.27272727,  9.36363636,  9.45454545,  9.54545455,\n",
              "        9.63636364,  9.72727273,  9.81818182,  9.90909091, 10.        ])"
            ]
          },
          "metadata": {},
          "execution_count": 16
        }
      ]
    },
    {
      "cell_type": "code",
      "source": [
        "y= np.sin(x)"
      ],
      "metadata": {
        "id": "jFY_0VmI2lF7"
      },
      "execution_count": null,
      "outputs": []
    },
    {
      "cell_type": "code",
      "source": [
        "y"
      ],
      "metadata": {
        "colab": {
          "base_uri": "https://localhost:8080/"
        },
        "id": "gnkvKDR72pcY",
        "outputId": "840897aa-89da-44e8-87fc-095a981ec39e"
      },
      "execution_count": null,
      "outputs": [
        {
          "output_type": "execute_result",
          "data": {
            "text/plain": [
              "array([ 0.84147098,  0.88704699,  0.92529707,  0.95590534,  0.978619  ,\n",
              "        0.99325047,  0.99967891,  0.99785123,  0.98778253,  0.96955595,\n",
              "        0.94332203,  0.90929743,  0.86776314,  0.8190622 ,  0.76359681,\n",
              "        0.70182505,  0.63425707,  0.56145091,  0.48400786,  0.40256749,\n",
              "        0.31780241,  0.23041267,  0.14112001,  0.05066187, -0.04021468,\n",
              "       -0.1307591 , -0.22022362, -0.30786935, -0.39297247, -0.47483011,\n",
              "       -0.55276624, -0.6261372 , -0.69433703, -0.7568025 , -0.8130177 ,\n",
              "       -0.86251837, -0.9048957 , -0.93979971, -0.96694212, -0.98609877,\n",
              "       -0.99711147, -0.99988924, -0.99440916, -0.98071647, -0.95892427,\n",
              "       -0.92921254, -0.89182665, -0.84707537, -0.79532828, -0.73701276,\n",
              "       -0.67261042, -0.60265314, -0.52771868, -0.44842592, -0.36542971,\n",
              "       -0.2794155 , -0.19109366, -0.10119362, -0.01045784,  0.0803643 ,\n",
              "        0.17052273,  0.25927286,  0.34588171,  0.429634  ,  0.50983804,\n",
              "        0.58583144,  0.6569866 ,  0.72271585,  0.78247636,  0.83577457,\n",
              "        0.88217031,  0.92128041,  0.95278186,  0.9764145 ,  0.99198316,\n",
              "        0.99935926,  0.99848187,  0.98935825,  0.97206374,  0.94674118,\n",
              "        0.9135997 ,  0.87291301,  0.82501713,  0.77030762,  0.70923631,\n",
              "        0.64230758,  0.57007418,  0.49313267,  0.41211849,  0.32770071,\n",
              "        0.24057653,  0.15146548,  0.06110351, -0.0297631 , -0.1203839 ,\n",
              "       -0.21001048, -0.29790263, -0.38333447, -0.46560043, -0.54402111])"
            ]
          },
          "metadata": {},
          "execution_count": 18
        }
      ]
    },
    {
      "cell_type": "code",
      "source": [
        "plt.plot(x,y)\n"
      ],
      "metadata": {
        "colab": {
          "base_uri": "https://localhost:8080/",
          "height": 448
        },
        "id": "Rdun3pIh2qLa",
        "outputId": "a899e2af-e8cf-42d5-bc7d-47ca58f8960e"
      },
      "execution_count": null,
      "outputs": [
        {
          "output_type": "execute_result",
          "data": {
            "text/plain": [
              "[<matplotlib.lines.Line2D at 0x79c418d81710>]"
            ]
          },
          "metadata": {},
          "execution_count": 21
        },
        {
          "output_type": "display_data",
          "data": {
            "text/plain": [
              "<Figure size 640x480 with 1 Axes>"
            ],
            "image/png": "[encoded data removed]"
          },
          "metadata": {}
        }
      ]
    },
    {
      "cell_type": "code",
      "source": [
        "import random"
      ],
      "metadata": {
        "id": "AXZxPrRp2xpu"
      },
      "execution_count": null,
      "outputs": []
    },
    {
      "cell_type": "code",
      "source": [
        "x1= np.random.rand(50)\n",
        "y1= np.random.rand(50)"
      ],
      "metadata": {
        "id": "utlktjI_3jT4"
      },
      "execution_count": null,
      "outputs": []
    },
    {
      "cell_type": "code",
      "source": [
        "x1"
      ],
      "metadata": {
        "colab": {
          "base_uri": "https://localhost:8080/"
        },
        "id": "sK3Loqir3s6b",
        "outputId": "64f8c8a0-5585-4276-b2f1-0d275d831766"
      },
      "execution_count": null,
      "outputs": [
        {
          "output_type": "execute_result",
          "data": {
            "text/plain": [
              "array([0.72325928, 0.87689175, 0.15284831, 0.45539793, 0.88487368,\n",
              "       0.2388314 , 0.74042712, 0.69602784, 0.19077287, 0.70869159,\n",
              "       0.88435572, 0.29822512, 0.47716524, 0.07166329, 0.26515532,\n",
              "       0.93404256, 0.46566865, 0.83928481, 0.24857321, 0.0449208 ,\n",
              "       0.96892277, 0.30196912, 0.54089941, 0.45387957, 0.75529643,\n",
              "       0.4869027 , 0.10337607, 0.28289764, 0.20538212, 0.34268307,\n",
              "       0.46138082, 0.16241561, 0.97746936, 0.94427418, 0.79387539,\n",
              "       0.48074726, 0.71060817, 0.05197134, 0.418359  , 0.11265466,\n",
              "       0.63887782, 0.04492088, 0.78207902, 0.46411123, 0.71547567,\n",
              "       0.32262651, 0.76411616, 0.05263153, 0.02810949, 0.05732756])"
            ]
          },
          "metadata": {},
          "execution_count": 31
        }
      ]
    },
    {
      "cell_type": "code",
      "source": [
        "plt.scatter(x1,y1,color= 'red', label=\"x1\")\n",
        "plt.legend()"
      ],
      "metadata": {
        "colab": {
          "base_uri": "https://localhost:8080/",
          "height": 448
        },
        "id": "TOllauZt4LNb",
        "outputId": "ca1aea4a-553a-4878-8a99-dddfcd77636c"
      },
      "execution_count": null,
      "outputs": [
        {
          "output_type": "execute_result",
          "data": {
            "text/plain": [
              "<matplotlib.legend.Legend at 0x79c41b11ba10>"
            ]
          },
          "metadata": {},
          "execution_count": 37
        },
        {
          "output_type": "display_data",
          "data": {
            "text/plain": [
              "<Figure size 640x480 with 1 Axes>"
            ],
            "image/png": "[encoded data removed]"
          },
          "metadata": {}
        }
      ]
    },
    {
      "cell_type": "code",
      "source": [
        "x2= [\"A\",\"B\",\"c\"]\n",
        "y2= [2,4,6]"
      ],
      "metadata": {
        "id": "h1rCgDnb35JC"
      },
      "execution_count": null,
      "outputs": []
    },
    {
      "cell_type": "code",
      "source": [
        "plt.bar(x2,y2)"
      ],
      "metadata": {
        "colab": {
          "base_uri": "https://localhost:8080/",
          "height": 448
        },
        "id": "Hio7G2n88szT",
        "outputId": "92308630-2a30-499a-b333-79d4d78cb9ad"
      },
      "execution_count": null,
      "outputs": [
        {
          "output_type": "execute_result",
          "data": {
            "text/plain": [
              "<BarContainer object of 3 artists>"
            ]
          },
          "metadata": {},
          "execution_count": 39
        },
        {
          "output_type": "display_data",
          "data": {
            "text/plain": [
              "<Figure size 640x480 with 1 Axes>"
            ],
            "image/png": "[encoded data removed]"
          },
          "metadata": {}
        }
      ]
    },
    {
      "cell_type": "code",
      "source": [
        "x3= np.random.randn(100)"
      ],
      "metadata": {
        "id": "F4xac6T18xBc"
      },
      "execution_count": null,
      "outputs": []
    },
    {
      "cell_type": "code",
      "source": [
        "x3"
      ],
      "metadata": {
        "colab": {
          "base_uri": "https://localhost:8080/"
        },
        "id": "C5MZXTwX9JLS",
        "outputId": "57ff9596-ceae-454a-b48f-55389e9e94f1"
      },
      "execution_count": null,
      "outputs": [
        {
          "output_type": "execute_result",
          "data": {
            "text/plain": [
              "array([-0.23388552, -0.01021538, -0.13952134,  0.67353367, -0.01761884,\n",
              "        0.06482122, -1.27523732, -0.56453065,  0.44120097, -0.57755418,\n",
              "       -0.62503564,  0.18800778,  0.01822246,  0.06938472,  1.36035226,\n",
              "       -0.43762777, -0.02706773,  0.64635796,  1.5834411 , -1.03412498,\n",
              "       -1.55892295,  0.64361038,  0.9468956 , -2.70577575,  0.74112468,\n",
              "       -0.30355786, -0.08410893,  0.35353489, -0.90861777, -1.48162506,\n",
              "       -0.43806235, -0.56620009,  2.14574339,  0.2209095 , -0.27789291,\n",
              "        0.25194097, -1.02385604, -0.70160157,  0.01889307,  2.5444559 ,\n",
              "       -0.07814993, -0.46282113,  0.11613316, -0.71991291,  0.2225809 ,\n",
              "       -0.35378434, -1.12345599,  0.78807126, -0.69648302,  0.21184476,\n",
              "        0.26065337, -0.67778242, -0.971339  , -0.3388253 , -1.06101497,\n",
              "        0.50932797,  1.30990489, -0.19307716, -0.00396611, -0.93606628,\n",
              "       -1.35896665,  0.22439744,  1.49538022,  1.87328383, -1.54944635,\n",
              "        0.31818756,  0.25249944,  1.61287426, -1.11475202,  0.26653938,\n",
              "        1.49473953,  1.08315256, -0.39391027, -1.00920582,  1.2722553 ,\n",
              "        1.89196862, -0.48182408,  0.84970645, -0.15236541,  0.65378865,\n",
              "       -0.28573513,  0.20717533,  0.40494486,  0.44257272,  1.10847729,\n",
              "       -0.01407235,  0.45087208, -0.27157067, -0.84055667, -1.98834722,\n",
              "       -0.75412388, -0.32180448,  0.35302389, -1.13254003,  0.82478719,\n",
              "        1.01384958,  0.041159  ,  1.09685762,  0.00684162, -0.15925419])"
            ]
          },
          "metadata": {},
          "execution_count": 42
        }
      ]
    },
    {
      "cell_type": "code",
      "source": [
        "a,b,c= plt.hist(x3,bins=30)"
      ],
      "metadata": {
        "colab": {
          "base_uri": "https://localhost:8080/",
          "height": 430
        },
        "id": "yOngY0Dn9MMa",
        "outputId": "5db851a3-c401-47d7-e15f-4d08b561b505"
      },
      "execution_count": null,
      "outputs": [
        {
          "output_type": "display_data",
          "data": {
            "text/plain": [
              "<Figure size 640x480 with 1 Axes>"
            ],
            "image/png": "[encoded data removed]"
          },
          "metadata": {}
        }
      ]
    },
    {
      "cell_type": "code",
      "source": [
        "a"
      ],
      "metadata": {
        "colab": {
          "base_uri": "https://localhost:8080/"
        },
        "id": "ZAZ15MyS9S1y",
        "outputId": "3bfd7cae-aa8f-4e2d-a5e0-4b0e844e6d78"
      },
      "execution_count": null,
      "outputs": [
        {
          "output_type": "execute_result",
          "data": {
            "text/plain": [
              "array([ 1.,  0.,  0.,  0.,  1.,  0.,  3.,  1.,  2.,  7.,  3.,  6.,  7.,\n",
              "        8.,  6., 12., 11.,  6.,  2.,  6.,  3.,  4.,  2.,  1.,  4.,  0.,\n",
              "        2.,  1.,  0.,  1.])"
            ]
          },
          "metadata": {},
          "execution_count": 51
        }
      ]
    },
    {
      "cell_type": "code",
      "source": [
        "#number of bins created by default histogram\n",
        "len(b)-1"
      ],
      "metadata": {
        "colab": {
          "base_uri": "https://localhost:8080/"
        },
        "id": "f9lRK8119qeM",
        "outputId": "a7914257-491f-4c5d-a80b-40ce5260fab1"
      },
      "execution_count": null,
      "outputs": [
        {
          "output_type": "execute_result",
          "data": {
            "text/plain": [
              "30"
            ]
          },
          "metadata": {},
          "execution_count": 52
        }
      ]
    },
    {
      "cell_type": "code",
      "source": [
        "c"
      ],
      "metadata": {
        "colab": {
          "base_uri": "https://localhost:8080/"
        },
        "id": "-k5V24Vf9tBV",
        "outputId": "58a890f0-5b02-4f08-f03d-8d0d856d20d4"
      },
      "execution_count": null,
      "outputs": [
        {
          "output_type": "execute_result",
          "data": {
            "text/plain": [
              "<BarContainer object of 30 artists>"
            ]
          },
          "metadata": {},
          "execution_count": 53
        }
      ]
    },
    {
      "cell_type": "code",
      "source": [
        "plt.boxplot([x1,y1])"
      ],
      "metadata": {
        "colab": {
          "base_uri": "https://localhost:8080/",
          "height": 702
        },
        "id": "whsc6QWO9wiG",
        "outputId": "0720b0c7-fe6c-4231-b0c2-96ff875c2e1c"
      },
      "execution_count": null,
      "outputs": [
        {
          "output_type": "execute_result",
          "data": {
            "text/plain": [
              "{'whiskers': [<matplotlib.lines.Line2D at 0x79c4149ed410>,\n",
              "  <matplotlib.lines.Line2D at 0x79c4149efed0>,\n",
              "  <matplotlib.lines.Line2D at 0x79c4149c3b90>,\n",
              "  <matplotlib.lines.Line2D at 0x79c414a3c710>],\n",
              " 'caps': [<matplotlib.lines.Line2D at 0x79c4149c0990>,\n",
              "  <matplotlib.lines.Line2D at 0x79c4149c14d0>,\n",
              "  <matplotlib.lines.Line2D at 0x79c414a3d110>,\n",
              "  <matplotlib.lines.Line2D at 0x79c414a3dc90>],\n",
              " 'boxes': [<matplotlib.lines.Line2D at 0x79c4149ec090>,\n",
              "  <matplotlib.lines.Line2D at 0x79c4149c30d0>],\n",
              " 'medians': [<matplotlib.lines.Line2D at 0x79c4149c2190>,\n",
              "  <matplotlib.lines.Line2D at 0x79c414a3e810>],\n",
              " 'fliers': [<matplotlib.lines.Line2D at 0x79c414bcea50>,\n",
              "  <matplotlib.lines.Line2D at 0x79c414a3f250>],\n",
              " 'means': []}"
            ]
          },
          "metadata": {},
          "execution_count": 58
        },
        {
          "output_type": "display_data",
          "data": {
            "text/plain": [
              "<Figure size 640x480 with 1 Axes>"
            ],
            "image/png": "[encoded data removed]"
          },
          "metadata": {}
        }
      ]
    },
    {
      "cell_type": "code",
      "source": [
        "import matplotlib.pyplot as plt\n",
        "import numpy as np\n",
        "\n",
        "# Sample data (replace with your actual and predicted values)\n",
        "actual_values = np.random.rand(10)\n",
        "predicted_values = np.random.rand(10)\n",
        "\n",
        "# Create the x-axis values (e.g., time or data point index)\n",
        "x_values = np.arange(len(actual_values))\n",
        "\n",
        "# Plot the actual values\n",
        "plt.plot(x_values, actual_values, label='Actual', color='blue')\n",
        "\n",
        "# Plot the predicted values\n",
        "plt.plot(x_values, predicted_values, label='Predicted', color='red')\n",
        "\n",
        "# Add labels and title\n",
        "plt.xlabel('Data Point')\n",
        "plt.ylabel('Value')\n",
        "plt.title('Actual vs. Predicted Values')\n",
        "\n",
        "# Add a legend\n",
        "plt.legend()\n",
        "\n",
        "# Show the plot\n",
        "plt.show()"
      ],
      "metadata": {
        "colab": {
          "base_uri": "https://localhost:8080/",
          "height": 472
        },
        "id": "dfF15024-Vff",
        "outputId": "f52ca952-c118-4e7b-8703-75d6fd00c6dc"
      },
      "execution_count": null,
      "outputs": [
        {
          "output_type": "display_data",
          "data": {
            "text/plain": [
              "<Figure size 640x480 with 1 Axes>"
            ],
            "image/png": "[encoded data removed]"
          },
          "metadata": {}
        }
      ]
    },
    {
      "cell_type": "code",
      "source": [
        "!pip install mplfinance"
      ],
      "metadata": {
        "colab": {
          "base_uri": "https://localhost:8080/"
        },
        "id": "BnSdxdtN_ETO",
        "outputId": "4388db45-7db6-4a0c-b5e2-e60780beff22"
      },
      "execution_count": null,
      "outputs": [
        {
          "output_type": "stream",
          "name": "stdout",
          "text": [
            "Collecting mplfinance\n",
            "  Downloading mplfinance-0.12.10b0-py3-none-any.whl.metadata (19 kB)\n",
            "Requirement already satisfied: matplotlib in /usr/local/lib/python3.11/dist-packages (from mplfinance) (3.10.0)\n",
            "Requirement already satisfied: pandas in /usr/local/lib/python3.11/dist-packages (from mplfinance) (2.2.2)\n",
            "Requirement already satisfied: contourpy>=1.0.1 in /usr/local/lib/python3.11/dist-packages (from matplotlib->mplfinance) (1.3.1)\n",
            "Requirement already satisfied: cycler>=0.10 in /usr/local/lib/python3.11/dist-packages (from matplotlib->mplfinance) (0.12.1)\n",
            "Requirement already satisfied: fonttools>=4.22.0 in /usr/local/lib/python3.11/dist-packages (from matplotlib->mplfinance) (4.56.0)\n",
            "Requirement already satisfied: kiwisolver>=1.3.1 in /usr/local/lib/python3.11/dist-packages (from matplotlib->mplfinance) (1.4.8)\n",
            "Requirement already satisfied: numpy>=1.23 in /usr/local/lib/python3.11/dist-packages (from matplotlib->mplfinance) (2.0.2)\n",
            "Requirement already satisfied: packaging>=20.0 in /usr/local/lib/python3.11/dist-packages (from matplotlib->mplfinance) (24.2)\n",
            "Requirement already satisfied: pillow>=8 in /usr/local/lib/python3.11/dist-packages (from matplotlib->mplfinance) (11.1.0)\n",
            "Requirement already satisfied: pyparsing>=2.3.1 in /usr/local/lib/python3.11/dist-packages (from matplotlib->mplfinance) (3.2.3)\n",
            "Requirement already satisfied: python-dateutil>=2.7 in /usr/local/lib/python3.11/dist-packages (from matplotlib->mplfinance) (2.8.2)\n",
            "Requirement already satisfied: pytz>=2020.1 in /usr/local/lib/python3.11/dist-packages (from pandas->mplfinance) (2025.2)\n",
            "Requirement already satisfied: tzdata>=2022.7 in /usr/local/lib/python3.11/dist-packages (from pandas->mplfinance) (2025.2)\n",
            "Requirement already satisfied: six>=1.5 in /usr/local/lib/python3.11/dist-packages (from python-dateutil>=2.7->matplotlib->mplfinance) (1.17.0)\n",
            "Downloading mplfinance-0.12.10b0-py3-none-any.whl (75 kB)\n",
            "\u001b[2K   \u001b[90m━━━━━━━━━━━━━━━━━━━━━━━━━━━━━━━━━━━━━━━━\u001b[0m \u001b[32m75.0/75.0 kB\u001b[0m \u001b[31m2.0 MB/s\u001b[0m eta \u001b[36m0:00:00\u001b[0m\n",
            "\u001b[?25hInstalling collected packages: mplfinance\n",
            "Successfully installed mplfinance-0.12.10b0\n"
          ]
        }
      ]
    },
    {
      "cell_type": "code",
      "source": [
        "a= {1,2,3,4,5,\"a\",\"b\",\"c\",1,2,\"a\",\"b\"}"
      ],
      "metadata": {
        "id": "ZsWcF1T8_TR6"
      },
      "execution_count": 15,
      "outputs": []
    },
    {
      "cell_type": "code",
      "source": [
        "a.remove(1)"
      ],
      "metadata": {
        "id": "IVmv_DpS_Zc1"
      },
      "execution_count": 16,
      "outputs": []
    },
    {
      "cell_type": "code",
      "source": [
        "print(a)"
      ],
      "metadata": {
        "id": "gkTShhuyD36V",
        "outputId": "ed32db1d-b214-4fd6-fd82-21a2901d8ab0",
        "colab": {
          "base_uri": "https://localhost:8080/"
        }
      },
      "execution_count": 17,
      "outputs": [
        {
          "output_type": "stream",
          "name": "stdout",
          "text": [
            "{2, 3, 4, 5, 'a', 'b', 'c'}\n"
          ]
        }
      ]
    },
    {
      "cell_type": "code",
      "source": [],
      "metadata": {
        "id": "CVVWwsppD6QX"
      },
      "execution_count": null,
      "outputs": []
    }
  ]
}