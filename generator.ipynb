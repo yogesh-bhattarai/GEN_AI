{
  "nbformat": 4,
  "nbformat_minor": 0,
  "metadata": {
    "colab": {
      "provenance": [],
      "authorship_tag": "ABX9TyPL+p23yrRUH09cVaeS05x2",
      "include_colab_link": true
    },
    "kernelspec": {
      "name": "python3",
      "display_name": "Python 3"
    },
    "language_info": {
      "name": "python"
    }
  },
  "cells": [
    {
      "cell_type": "markdown",
      "metadata": {
        "id": "view-in-github",
        "colab_type": "text"
      },
      "source": [
        "<a href=\"https://colab.research.google.com/github/yogesh-bhattarai/GEN_AI/blob/main/generator.ipynb\" target=\"_parent\"><img src=\"https://colab.research.google.com/assets/colab-badge.svg\" alt=\"Open In Colab\"/></a>"
      ]
    },
    {
      "cell_type": "code",
      "execution_count": 1,
      "metadata": {
        "id": "ZL9OVjZhydoR"
      },
      "outputs": [],
      "source": [
        "def hello()->list:\n",
        "  return [1,2,3]"
      ]
    },
    {
      "cell_type": "code",
      "source": [
        "hello()"
      ],
      "metadata": {
        "colab": {
          "base_uri": "https://localhost:8080/"
        },
        "id": "Mz0Z-W4rz2-O",
        "outputId": "eacd5351-ae0c-482e-9108-8f94fe44dcba"
      },
      "execution_count": 2,
      "outputs": [
        {
          "output_type": "execute_result",
          "data": {
            "text/plain": [
              "[1, 2, 3]"
            ]
          },
          "metadata": {},
          "execution_count": 2
        }
      ]
    },
    {
      "cell_type": "code",
      "source": [
        "#using generator\n",
        "def generator_function():\n",
        "  yield \"a\"\n",
        "  yield \"b\"\n",
        "  yield \"c\""
      ],
      "metadata": {
        "id": "QbDpdhsxz4QI"
      },
      "execution_count": 3,
      "outputs": []
    },
    {
      "cell_type": "code",
      "source": [
        "gen= generator_function()"
      ],
      "metadata": {
        "id": "jM7ph0EA0Z_z"
      },
      "execution_count": 6,
      "outputs": []
    },
    {
      "cell_type": "code",
      "source": [
        "next(gen)"
      ],
      "metadata": {
        "colab": {
          "base_uri": "https://localhost:8080/",
          "height": 36
        },
        "id": "Y_qEvirM0bj0",
        "outputId": "d801f2f9-bd3a-433c-d0b7-15717f7c6cd4"
      },
      "execution_count": 7,
      "outputs": [
        {
          "output_type": "execute_result",
          "data": {
            "text/plain": [
              "'a'"
            ],
            "application/vnd.google.colaboratory.intrinsic+json": {
              "type": "string"
            }
          },
          "metadata": {},
          "execution_count": 7
        }
      ]
    },
    {
      "cell_type": "code",
      "source": [
        "next(gen)"
      ],
      "metadata": {
        "colab": {
          "base_uri": "https://localhost:8080/",
          "height": 36
        },
        "id": "6Z8qcydD0jwx",
        "outputId": "246b08ec-45b9-476e-852e-09c2ca8ce7e2"
      },
      "execution_count": 8,
      "outputs": [
        {
          "output_type": "execute_result",
          "data": {
            "text/plain": [
              "'b'"
            ],
            "application/vnd.google.colaboratory.intrinsic+json": {
              "type": "string"
            }
          },
          "metadata": {},
          "execution_count": 8
        }
      ]
    },
    {
      "cell_type": "code",
      "source": [
        "next(gen)"
      ],
      "metadata": {
        "colab": {
          "base_uri": "https://localhost:8080/",
          "height": 36
        },
        "id": "hZOAiuSG0nUj",
        "outputId": "86e3d934-c53a-4651-890d-e630a28ee2fb"
      },
      "execution_count": 9,
      "outputs": [
        {
          "output_type": "execute_result",
          "data": {
            "text/plain": [
              "'c'"
            ],
            "application/vnd.google.colaboratory.intrinsic+json": {
              "type": "string"
            }
          },
          "metadata": {},
          "execution_count": 9
        }
      ]
    },
    {
      "cell_type": "code",
      "source": [
        "def simple_generator()->str:\n",
        "  print(\"hello\")\n",
        "  yield 1"
      ],
      "metadata": {
        "id": "89I6tPNV0oxJ"
      },
      "execution_count": 10,
      "outputs": []
    },
    {
      "cell_type": "code",
      "source": [
        "hello= simple_generator()"
      ],
      "metadata": {
        "id": "Jk0EAL_w1OVy"
      },
      "execution_count": 12,
      "outputs": []
    },
    {
      "cell_type": "code",
      "source": [
        "next(hello)"
      ],
      "metadata": {
        "colab": {
          "base_uri": "https://localhost:8080/"
        },
        "id": "xdZhkmym1P0Z",
        "outputId": "c0772501-f981-43c6-98ea-4df3d949fa0c"
      },
      "execution_count": 13,
      "outputs": [
        {
          "output_type": "stream",
          "name": "stdout",
          "text": [
            "hello\n"
          ]
        },
        {
          "output_type": "execute_result",
          "data": {
            "text/plain": [
              "1"
            ]
          },
          "metadata": {},
          "execution_count": 13
        }
      ]
    },
    {
      "cell_type": "code",
      "source": [
        "import numpy as np\n",
        "import pandas as pd\n",
        "import matplotlib.pyplot as plt\n",
        "import seaborn as sns"
      ],
      "metadata": {
        "id": "f-2k3Z-j1VDB"
      },
      "execution_count": 14,
      "outputs": []
    },
    {
      "cell_type": "code",
      "source": [
        "x= np.linspace(1,10,100)"
      ],
      "metadata": {
        "id": "5l2JNrwc2dYM"
      },
      "execution_count": 15,
      "outputs": []
    },
    {
      "cell_type": "code",
      "source": [
        "x"
      ],
      "metadata": {
        "colab": {
          "base_uri": "https://localhost:8080/"
        },
        "id": "9682Qrt92kf2",
        "outputId": "60b9179b-34fd-46ec-bbff-cf59ec0fbc81"
      },
      "execution_count": 16,
      "outputs": [
        {
          "output_type": "execute_result",
          "data": {
            "text/plain": [
              "array([ 1.        ,  1.09090909,  1.18181818,  1.27272727,  1.36363636,\n",
              "        1.45454545,  1.54545455,  1.63636364,  1.72727273,  1.81818182,\n",
              "        1.90909091,  2.        ,  2.09090909,  2.18181818,  2.27272727,\n",
              "        2.36363636,  2.45454545,  2.54545455,  2.63636364,  2.72727273,\n",
              "        2.81818182,  2.90909091,  3.        ,  3.09090909,  3.18181818,\n",
              "        3.27272727,  3.36363636,  3.45454545,  3.54545455,  3.63636364,\n",
              "        3.72727273,  3.81818182,  3.90909091,  4.        ,  4.09090909,\n",
              "        4.18181818,  4.27272727,  4.36363636,  4.45454545,  4.54545455,\n",
              "        4.63636364,  4.72727273,  4.81818182,  4.90909091,  5.        ,\n",
              "        5.09090909,  5.18181818,  5.27272727,  5.36363636,  5.45454545,\n",
              "        5.54545455,  5.63636364,  5.72727273,  5.81818182,  5.90909091,\n",
              "        6.        ,  6.09090909,  6.18181818,  6.27272727,  6.36363636,\n",
              "        6.45454545,  6.54545455,  6.63636364,  6.72727273,  6.81818182,\n",
              "        6.90909091,  7.        ,  7.09090909,  7.18181818,  7.27272727,\n",
              "        7.36363636,  7.45454545,  7.54545455,  7.63636364,  7.72727273,\n",
              "        7.81818182,  7.90909091,  8.        ,  8.09090909,  8.18181818,\n",
              "        8.27272727,  8.36363636,  8.45454545,  8.54545455,  8.63636364,\n",
              "        8.72727273,  8.81818182,  8.90909091,  9.        ,  9.09090909,\n",
              "        9.18181818,  9.27272727,  9.36363636,  9.45454545,  9.54545455,\n",
              "        9.63636364,  9.72727273,  9.81818182,  9.90909091, 10.        ])"
            ]
          },
          "metadata": {},
          "execution_count": 16
        }
      ]
    },
    {
      "cell_type": "code",
      "source": [
        "y= np.sin(x)"
      ],
      "metadata": {
        "id": "jFY_0VmI2lF7"
      },
      "execution_count": 17,
      "outputs": []
    },
    {
      "cell_type": "code",
      "source": [
        "y"
      ],
      "metadata": {
        "colab": {
          "base_uri": "https://localhost:8080/"
        },
        "id": "gnkvKDR72pcY",
        "outputId": "840897aa-89da-44e8-87fc-095a981ec39e"
      },
      "execution_count": 18,
      "outputs": [
        {
          "output_type": "execute_result",
          "data": {
            "text/plain": [
              "array([ 0.84147098,  0.88704699,  0.92529707,  0.95590534,  0.978619  ,\n",
              "        0.99325047,  0.99967891,  0.99785123,  0.98778253,  0.96955595,\n",
              "        0.94332203,  0.90929743,  0.86776314,  0.8190622 ,  0.76359681,\n",
              "        0.70182505,  0.63425707,  0.56145091,  0.48400786,  0.40256749,\n",
              "        0.31780241,  0.23041267,  0.14112001,  0.05066187, -0.04021468,\n",
              "       -0.1307591 , -0.22022362, -0.30786935, -0.39297247, -0.47483011,\n",
              "       -0.55276624, -0.6261372 , -0.69433703, -0.7568025 , -0.8130177 ,\n",
              "       -0.86251837, -0.9048957 , -0.93979971, -0.96694212, -0.98609877,\n",
              "       -0.99711147, -0.99988924, -0.99440916, -0.98071647, -0.95892427,\n",
              "       -0.92921254, -0.89182665, -0.84707537, -0.79532828, -0.73701276,\n",
              "       -0.67261042, -0.60265314, -0.52771868, -0.44842592, -0.36542971,\n",
              "       -0.2794155 , -0.19109366, -0.10119362, -0.01045784,  0.0803643 ,\n",
              "        0.17052273,  0.25927286,  0.34588171,  0.429634  ,  0.50983804,\n",
              "        0.58583144,  0.6569866 ,  0.72271585,  0.78247636,  0.83577457,\n",
              "        0.88217031,  0.92128041,  0.95278186,  0.9764145 ,  0.99198316,\n",
              "        0.99935926,  0.99848187,  0.98935825,  0.97206374,  0.94674118,\n",
              "        0.9135997 ,  0.87291301,  0.82501713,  0.77030762,  0.70923631,\n",
              "        0.64230758,  0.57007418,  0.49313267,  0.41211849,  0.32770071,\n",
              "        0.24057653,  0.15146548,  0.06110351, -0.0297631 , -0.1203839 ,\n",
              "       -0.21001048, -0.29790263, -0.38333447, -0.46560043, -0.54402111])"
            ]
          },
          "metadata": {},
          "execution_count": 18
        }
      ]
    },
    {
      "cell_type": "code",
      "source": [],
      "metadata": {
        "id": "Rdun3pIh2qLa"
      },
      "execution_count": null,
      "outputs": []
    }
  ]
}